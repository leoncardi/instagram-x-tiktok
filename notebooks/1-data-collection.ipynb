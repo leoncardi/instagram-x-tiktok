{
 "cells": [
  {
   "cell_type": "markdown",
   "metadata": {},
   "source": [
    "# Setup"
   ]
  },
  {
   "cell_type": "markdown",
   "metadata": {},
   "source": [
    "## Webscraping Setup"
   ]
  },
  {
   "cell_type": "code",
   "execution_count": 1,
   "metadata": {},
   "outputs": [],
   "source": [
    "from playwright.async_api import async_playwright\n",
    "from tqdm.asyncio import tqdm\n",
    "\n",
    "targets_url = ['https://www.businessofapps.com/data/instagram-statistics/', \n",
    "               'https://www.businessofapps.com/data/tik-tok-statistics/']\n",
    "target_data_selector = 'infogram-embed'\n",
    "target_data_iframe_selector = 'iframe[title=\"{chart_iframe_title_goes_here}\"]'\n",
    "\n",
    "p = await async_playwright().start()\n",
    "browser = await p.chromium.launch()\n",
    "context = await browser.new_context()"
   ]
  },
  {
   "cell_type": "markdown",
   "metadata": {},
   "source": [
    "## Data Exportation and Integratiy Setup"
   ]
  },
  {
   "cell_type": "code",
   "execution_count": null,
   "metadata": {},
   "outputs": [],
   "source": [
    "import os \n",
    "os.chdir('..')\n",
    "\n",
    "from IPython.display import Image, display\n",
    "import pandas as pd\n",
    "from src import DFVC\n",
    "\n",
    "pd.set_option('display.max_rows', None)\n",
    "pd.set_option('display.max_columns', None)\n",
    "\n",
    "raw_data_path = 'data/raw.dfvc'\n",
    "raw_hash = '9a21a0d38bb4ee2b5b1d98af17072c08c9657d7031d218ad6003b03333f2baf7'\n",
    "output_dir = 'data'\n",
    "output_filename = 'raw'\n",
    "output_path = f'{output_dir}/{output_filename}'\n"
   ]
  },
  {
   "cell_type": "markdown",
   "metadata": {},
   "source": [
    "### Target Pages Reacher"
   ]
  },
  {
   "cell_type": "code",
   "execution_count": null,
   "metadata": {},
   "outputs": [],
   "source": [
    "ig = await context.new_page()\n",
    "tk = await context.new_page()\n",
    "\n",
    "await ig.goto(targets_url[0])\n",
    "print(await ig.title())\n",
    "\n",
    "await tk.goto(targets_url[1])\n",
    "print(await tk.title())"
   ]
  },
  {
   "cell_type": "markdown",
   "metadata": {},
   "source": [
    "### Target Data (charts) Locator"
   ]
  },
  {
   "cell_type": "code",
   "execution_count": 3,
   "metadata": {},
   "outputs": [],
   "source": [
    "async def chart_finder(page: 'PageObject', chart_selector: str, screenshot: bool = True) -> list:\n",
    "    \"\"\"\n",
    "    Encontra gráficos em uma página e retorna os seletores de iframe correspondentes.\n",
    "\n",
    "    Args:\n",
    "        page (PageObject): Objeto da página do Playwright.\n",
    "        chart_selector (str): Seletor CSS para identificar os gráficos na página.\n",
    "        screenshot (bool, optional): Se True, tira uma captura de tela de cada gráfico encontrado. Padrão é True.\n",
    "\n",
    "    Returns:\n",
    "        list: Lista de seletores de iframe correspondentes aos gráficos encontrados.\n",
    "    \"\"\"\n",
    "    founded_iframes_selectors = []\n",
    "    founded_charts = await page.query_selector_all(f'.{chart_selector}')\n",
    "\n",
    "    for target in founded_charts:\n",
    "        await target.scroll_into_view_if_needed()\n",
    "        await page.wait_for_timeout(2000)\n",
    "\n",
    "        title = await target.get_attribute('data-title')\n",
    "        iframe_selector = f'iframe[title=\"{title}\"]'\n",
    "        founded_iframes_selectors.append(iframe_selector)\n",
    "\n",
    "        if screenshot:\n",
    "            page_title = await page.title()\n",
    "            print(f'Page: {page_title} || Chart iframe: {iframe_selector}')\n",
    "            display(Image(await page.screenshot()))\n",
    "\n",
    "    return founded_iframes_selectors\n",
    "\n",
    "ig_iframes = await chart_finder(page=ig, chart_selector=target_data_selector)\n",
    "tk_iframes = await chart_finder(page=tk, chart_selector=target_data_selector)"
   ]
  },
  {
   "cell_type": "markdown",
   "metadata": {},
   "source": [
    "### Target Data Iframe Selector Constructor"
   ]
  },
  {
   "cell_type": "code",
   "execution_count": 4,
   "metadata": {},
   "outputs": [],
   "source": [
    "for iframe in [ig_iframes, tk_iframes]:\n",
    "    print(iframe)"
   ]
  },
  {
   "cell_type": "code",
   "execution_count": 5,
   "metadata": {},
   "outputs": [],
   "source": [
    "iframe_to_remove_1 = 'iframe[title=\"Social App Users\"]'\n",
    "iframe_to_remove_2 = 'iframe[title=\"TikTok Quarterly Downloads\"]'\n",
    "\n",
    "def remove_iframe(iframes):\n",
    "    if iframe_to_remove_1 in iframes:\n",
    "        iframes.remove(iframe_to_remove_1)\n",
    "    if iframe_to_remove_2 in iframes:\n",
    "        iframes.remove(iframe_to_remove_2)\n",
    "    return iframes\n",
    "\n",
    "ig_iframes = remove_iframe(ig_iframes)\n",
    "tk_iframes = remove_iframe(tk_iframes)"
   ]
  },
  {
   "cell_type": "code",
   "execution_count": 6,
   "metadata": {},
   "outputs": [],
   "source": [
    "for iframe in [ig_iframes, tk_iframes]:\n",
    "    print(iframe)"
   ]
  },
  {
   "cell_type": "markdown",
   "metadata": {},
   "source": [
    "### Target Data Webscraper"
   ]
  },
  {
   "cell_type": "code",
   "execution_count": 7,
   "metadata": {},
   "outputs": [],
   "source": [
    "async def barchart_scraper(page: 'PageObject', target_iframes: list) -> pd.DataFrame:\n",
    "    \"\"\"\n",
    "    target_iframes: list within iframes target selectors\n",
    "    \"\"\"\n",
    "    scraped_barchart_data = []\n",
    "\n",
    "    print('Webscraping process started')\n",
    "    print(f'Page: {await page.title()}')\n",
    "    print()\n",
    "    for barchart in target_iframes:\n",
    "        barchart_iframe_title = f'{await page.frame_locator(barchart).locator(\"title\").inner_text()}'\n",
    "\n",
    "        columns_qtd = await page.frame_locator(barchart).locator('.igc-graph .igc-column').all()\n",
    "        columns_qtd = len(columns_qtd) + 1\n",
    "\n",
    "        # Mensagem inicial sem a barra de progresso\n",
    "        print(f'-> barchart ({barchart_iframe_title}):', end='')\n",
    "\n",
    "        # Inicialize uma barra de progresso para o gráfico atual\n",
    "        pbar = tqdm(total=columns_qtd - 1, desc='Progress', unit=' Datapoint', leave=True)\n",
    "        \n",
    "        for i in range(1, columns_qtd):\n",
    "            await page.frame_locator(barchart).locator(f'path:nth-child({i})').hover()\n",
    "\n",
    "            target_time_series_category = await page.frame_locator(barchart).locator('.tt_text').inner_text()\n",
    "            target_time_series_value = await page.frame_locator(barchart).locator('.tt_value').inner_text()\n",
    "\n",
    "            # Adicione os dados extraídos à lista\n",
    "            scraped_barchart_data.append({\n",
    "                'iframe_title': barchart_iframe_title,\n",
    "                'timeseries_category': target_time_series_category,\n",
    "                'timeseries_value': target_time_series_value\n",
    "            })\n",
    "\n",
    "            # Atualize a barra de progresso\n",
    "            pbar.update(1)\n",
    "\n",
    "        # Finalize a barra de progresso\n",
    "        pbar.close()\n",
    "\n",
    "        # Imprima a mensagem de conclusão após fechar a barra de progresso\n",
    "        print(f'-> barchart ({barchart_iframe_title}) webscraping ended')\n",
    "        print()\n",
    "    \n",
    "    print('Webscraping process ended')\n",
    "    print('-'*70)\n",
    "    print()\n",
    "\n",
    "    return pd.DataFrame(scraped_barchart_data)"
   ]
  },
  {
   "cell_type": "code",
   "execution_count": 8,
   "metadata": {},
   "outputs": [],
   "source": [
    "raw_scraped_data = []\n",
    "raw_scraped_data.append(await barchart_scraper(page=ig, target_iframes=ig_iframes))\n",
    "raw_scraped_data.append(await barchart_scraper(page=tk, target_iframes=tk_iframes))"
   ]
  }
 ],
 "metadata": {
  "kernelspec": {
   "display_name": "venv",
   "language": "python",
   "name": "python3"
  },
  "language_info": {
   "codemirror_mode": {
    "name": "ipython",
    "version": 3
   },
   "file_extension": ".py",
   "mimetype": "text/x-python",
   "name": "python",
   "nbconvert_exporter": "python",
   "pygments_lexer": "ipython3",
   "version": "3.12.1"
  }
 },
 "nbformat": 4,
 "nbformat_minor": 2
}
