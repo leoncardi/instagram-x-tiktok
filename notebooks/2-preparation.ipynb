{
 "cells": [
  {
   "cell_type": "code",
   "execution_count": 1,
   "metadata": {},
   "outputs": [],
   "source": [
    "import os\n",
    "os.chdir('..')\n",
    "\n",
    "import pandas as pd\n",
    "pd.set_option('display.max_rows', None)\n",
    "from IPython.display import Image, display\n",
    "\n",
    "from src import DFVC\n",
    "\n",
    "raw_data_path = 'data/raw.dfvc'\n",
    "raw_hash = '9a21a0d38bb4ee2b5b1d98af17072c08c9657d7031d218ad6003b03333f2baf7'\n",
    "prp_s1_hash = 'd854acea4c5654937d9275b86e8e0bc1ee0ff79dd16160b9a96960f681e4a705'\n",
    "output_dir = 'data'\n",
    "output_filename = 'prp_s1'\n",
    "output_path = f'{output_dir}/{output_filename}'"
   ]
  },
  {
   "cell_type": "code",
   "execution_count": 2,
   "metadata": {},
   "outputs": [
    {
     "data": {
      "text/html": [
       "\n",
       "        <div style='border:1px solid #1b2b30; padding:10px; border-radius:10px; width:max-content; \n",
       "                    font-family:Arial, sans-serif; background-color:#0a0e12; color:#8fa3a6; font-size:0.9em;'>\n",
       "            <div style='display: flex; align-items: center;'>\n",
       "                <button onclick=\"var info = document.getElementById('dfvc_127256917118848_info');\n",
       "                                if (info.style.display === 'none') {\n",
       "                                    info.style.display = 'block';\n",
       "                                    this.textContent = '-';\n",
       "                                } else {\n",
       "                                    info.style.display = 'none';\n",
       "                                    this.textContent = '+';\n",
       "                                }\"\n",
       "                        style='background-color:#202c31; color:#b5c9cb; border:none; padding:4px 12px; \n",
       "                            border-radius:5px; cursor:pointer; font-size:0.8em; margin-right:10px;'>\n",
       "                    +\n",
       "                </button>\n",
       "                <span style='font-weight: bold; color:#2d6f6b;'>DFVC Object</span>\n",
       "            </div>\n",
       "            <div id='dfvc_127256917118848_info' style='display:none; margin-top:10px;'>\n",
       "                <strong style='color:#2d6f6b;'>version==</strong> 9a21a0d38bb4ee2b5b1d98af17072c08c9657d7031d218ad6003b03333f2baf7<br>\n",
       "                <strong style='color:#2d6f6b;'>creation_date==</strong> 2024:12:04 20:42:57 GMT+00<br>\n",
       "                <strong style='color:#2d6f6b;'>shape==</strong> (144, 3)<br>\n",
       "            </div>\n",
       "        </div>\n",
       "        "
      ],
      "text/plain": [
       "<src.dfvc.DFVC at 0x73bd4f570f80>"
      ]
     },
     "metadata": {},
     "output_type": "display_data"
    },
    {
     "name": "stdout",
     "output_type": "stream",
     "text": [
      "Version integrity verified successfully.\n"
     ]
    }
   ],
   "source": [
    "raw_dfvc = DFVC.load_dfvc_file(raw_data_path)\n",
    "display(raw_dfvc)\n",
    "raw_dfvc.compare_versions(raw_hash)"
   ]
  },
  {
   "cell_type": "code",
   "execution_count": null,
   "metadata": {},
   "outputs": [
    {
     "data": {
      "text/html": [
       "<div>\n",
       "<style scoped>\n",
       "    .dataframe tbody tr th:only-of-type {\n",
       "        vertical-align: middle;\n",
       "    }\n",
       "\n",
       "    .dataframe tbody tr th {\n",
       "        vertical-align: top;\n",
       "    }\n",
       "\n",
       "    .dataframe thead th {\n",
       "        text-align: right;\n",
       "    }\n",
       "</style>\n",
       "<table border=\"1\" class=\"dataframe\">\n",
       "  <thead>\n",
       "    <tr style=\"text-align: right;\">\n",
       "      <th></th>\n",
       "      <th>iframe_title</th>\n",
       "      <th>timeseries_category</th>\n",
       "      <th>timeseries_value</th>\n",
       "    </tr>\n",
       "  </thead>\n",
       "  <tbody>\n",
       "    <tr>\n",
       "      <th>0</th>\n",
       "      <td>Instagram revenues - Infogram</td>\n",
       "      <td>Q1 2015</td>\n",
       "      <td>111</td>\n",
       "    </tr>\n",
       "    <tr>\n",
       "      <th>1</th>\n",
       "      <td>Instagram revenues - Infogram</td>\n",
       "      <td>Q2 2015</td>\n",
       "      <td>139</td>\n",
       "    </tr>\n",
       "    <tr>\n",
       "      <th>2</th>\n",
       "      <td>Instagram revenues - Infogram</td>\n",
       "      <td>Q3 2015</td>\n",
       "      <td>141</td>\n",
       "    </tr>\n",
       "    <tr>\n",
       "      <th>3</th>\n",
       "      <td>Instagram revenues - Infogram</td>\n",
       "      <td>Q4 2015</td>\n",
       "      <td>201</td>\n",
       "    </tr>\n",
       "    <tr>\n",
       "      <th>4</th>\n",
       "      <td>Instagram revenues - Infogram</td>\n",
       "      <td>Q1 2016</td>\n",
       "      <td>261</td>\n",
       "    </tr>\n",
       "  </tbody>\n",
       "</table>\n",
       "</div>"
      ],
      "text/plain": [
       "                    iframe_title timeseries_category timeseries_value\n",
       "0  Instagram revenues - Infogram             Q1 2015              111\n",
       "1  Instagram revenues - Infogram             Q2 2015              139\n",
       "2  Instagram revenues - Infogram             Q3 2015              141\n",
       "3  Instagram revenues - Infogram             Q4 2015              201\n",
       "4  Instagram revenues - Infogram             Q1 2016              261"
      ]
     },
     "execution_count": 3,
     "metadata": {},
     "output_type": "execute_result"
    }
   ],
   "source": [
    "raw = raw_dfvc.get_dataframe()\n",
    "raw.head()"
   ]
  },
  {
   "cell_type": "code",
   "execution_count": null,
   "metadata": {},
   "outputs": [],
   "source": [
    "# quarter_label\n",
    "prp_s1_interim = pd.DataFrame(columns=['quarter', 'quarter_label', 'ig_maus', 'ig_revs', 'tk_maus', 'tk_revs'])\n",
    "prp_s1_interim['quarter_label'] = raw['timeseries_category'].unique()"
   ]
  },
  {
   "cell_type": "code",
   "execution_count": null,
   "metadata": {},
   "outputs": [],
   "source": [
    "# quarter\n",
    "def converter_para_data(trimestre):\n",
    "    tri, ano = trimestre.split()\n",
    "    tri = int(tri[1])\n",
    "    if tri == 1:\n",
    "        mes, dia = 3, 31\n",
    "    elif tri == 2:\n",
    "        mes, dia = 6, 30\n",
    "    elif tri == 3:\n",
    "        mes, dia = 9, 30\n",
    "    elif tri == 4:\n",
    "        mes, dia = 12, 31\n",
    "    return pd.Timestamp(year=int(ano), month=mes, day=dia)\n",
    "\n",
    "# Aplicar a transformação ao DataFrame df\n",
    "prp_s1_interim['quarter'] = prp_s1_interim['quarter_label'].apply(converter_para_data)\n",
    "\n",
    "prp_s1_interim = prp_s1_interim.sort_values(by='quarter').reset_index(drop=True)\n",
    "\n",
    "# Definir o ano atual\n",
    "current_year = pd.Timestamp.now().year\n",
    "\n",
    "# Filtrar os dados para manter apenas os últimos 5 anos\n",
    "prp_s1_interim = prp_s1_interim[prp_s1_interim['quarter'].dt.year >= (current_year - 6)]\n",
    "\n",
    "# Resetar o índice\n",
    "prp_s1_interim.reset_index(drop=True, inplace=True)"
   ]
  },
  {
   "cell_type": "code",
   "execution_count": null,
   "metadata": {},
   "outputs": [],
   "source": [
    "# Função para preencher o prp_s1_interim com os valores do raw\n",
    "def preencher_prp_s1_interim(raw, prp_s1_interim):\n",
    "    for index, row in raw.iterrows():\n",
    "        if 'Instagram' in row['iframe_title']:\n",
    "            if 'monthly app users' in row['iframe_title']:\n",
    "                prp_s1_interim.loc[prp_s1_interim['quarter_label'] == row['timeseries_category'], 'ig_maus'] = row['timeseries_value']\n",
    "            elif 'revenues' in row['iframe_title']:\n",
    "                prp_s1_interim.loc[prp_s1_interim['quarter_label'] == row['timeseries_category'], 'ig_revs'] = row['timeseries_value']\n",
    "        elif 'TikTok' in row['iframe_title']:\n",
    "            if 'MAUs' in row['iframe_title']:\n",
    "                prp_s1_interim.loc[prp_s1_interim['quarter_label'] == row['timeseries_category'], 'tk_maus'] = row['timeseries_value']\n",
    "            elif 'revenues' in row['iframe_title']:\n",
    "                prp_s1_interim.loc[prp_s1_interim['quarter_label'] == row['timeseries_category'], 'tk_revs'] = row['timeseries_value']\n",
    "    return prp_s1_interim\n",
    "\n",
    "# Preencher o prp_s1_interim\n",
    "prp_s1_interim = preencher_prp_s1_interim(raw, prp_s1_interim)"
   ]
  },
  {
   "cell_type": "code",
   "execution_count": null,
   "metadata": {},
   "outputs": [],
   "source": [
    "# Verifique se as colunas existem no DataFrame\n",
    "columns_to_convert = ['ig_maus', 'ig_revs', 'tk_maus', 'tk_revs']\n",
    "for column in columns_to_convert:\n",
    "    if column in prp_s1_interim.columns:\n",
    "        # Converta a coluna para int, lidando com possíveis valores nulos\n",
    "        prp_s1_interim[column] = pd.to_numeric(prp_s1_interim[column], errors='coerce').fillna(0).astype(int)\n",
    "    else:\n",
    "        print(f\"Coluna {column} não encontrada no DataFrame.\")"
   ]
  },
  {
   "cell_type": "code",
   "execution_count": null,
   "metadata": {},
   "outputs": [
    {
     "data": {
      "text/html": [
       "\n",
       "        <div style='border:1px solid #1b2b30; padding:10px; border-radius:10px; width:max-content; \n",
       "                    font-family:Arial, sans-serif; background-color:#0a0e12; color:#8fa3a6; font-size:0.9em;'>\n",
       "            <div style='display: flex; align-items: center;'>\n",
       "                <button onclick=\"var info = document.getElementById('dfvc_127257263580336_info');\n",
       "                                if (info.style.display === 'none') {\n",
       "                                    info.style.display = 'block';\n",
       "                                    this.textContent = '-';\n",
       "                                } else {\n",
       "                                    info.style.display = 'none';\n",
       "                                    this.textContent = '+';\n",
       "                                }\"\n",
       "                        style='background-color:#202c31; color:#b5c9cb; border:none; padding:4px 12px; \n",
       "                            border-radius:5px; cursor:pointer; font-size:0.8em; margin-right:10px;'>\n",
       "                    +\n",
       "                </button>\n",
       "                <span style='font-weight: bold; color:#2d6f6b;'>DFVC Object</span>\n",
       "            </div>\n",
       "            <div id='dfvc_127257263580336_info' style='display:none; margin-top:10px;'>\n",
       "                <strong style='color:#2d6f6b;'>version==</strong> d854acea4c5654937d9275b86e8e0bc1ee0ff79dd16160b9a96960f681e4a705<br>\n",
       "                <strong style='color:#2d6f6b;'>creation_date==</strong> 2024:12:04 21:08:25 GMT+00<br>\n",
       "                <strong style='color:#2d6f6b;'>shape==</strong> (27, 6)<br>\n",
       "            </div>\n",
       "        </div>\n",
       "        "
      ],
      "text/plain": [
       "<src.dfvc.DFVC at 0x73bd63fda4b0>"
      ]
     },
     "metadata": {},
     "output_type": "display_data"
    },
    {
     "name": "stdout",
     "output_type": "stream",
     "text": [
      "Version integrity verified successfully.\n"
     ]
    }
   ],
   "source": [
    "prp_s1 = DFVC(prp_s1_interim)\n",
    "display(prp_s1)\n",
    "prp_s1.compare_versions(prp_s1_hash)"
   ]
  },
  {
   "cell_type": "code",
   "execution_count": null,
   "metadata": {},
   "outputs": [
    {
     "name": "stdout",
     "output_type": "stream",
     "text": [
      "DFVC object successfully saved to data/prp_s1.dfvc.\n"
     ]
    }
   ],
   "source": [
    "if not os.path.exists(output_dir):\n",
    "    os.makedirs(output_dir)\n",
    "prp_s1.export_as_dfvc_file(output_path)"
   ]
  }
 ],
 "metadata": {
  "kernelspec": {
   "display_name": "venv",
   "language": "python",
   "name": "python3"
  },
  "language_info": {
   "codemirror_mode": {
    "name": "ipython",
    "version": 3
   },
   "file_extension": ".py",
   "mimetype": "text/x-python",
   "name": "python",
   "nbconvert_exporter": "python",
   "pygments_lexer": "ipython3",
   "version": "3.12.1"
  }
 },
 "nbformat": 4,
 "nbformat_minor": 2
}
