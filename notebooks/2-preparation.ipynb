{
 "cells": [
  {
   "cell_type": "code",
   "execution_count": 10,
   "metadata": {},
   "outputs": [
    {
     "name": "stdout",
     "output_type": "stream",
     "text": [
      "John Doe\n"
     ]
    }
   ],
   "source": [
    "import configparser\n",
    "\n",
    "# Define o caminho do arquivo INI\n",
    "file_path = \"config.ini\"\n",
    "\n",
    "# Define a seção e as chaves desejadas\n",
    "section = \"General\"\n",
    "key = \"name\"\n",
    "\n",
    "# Cria o parser e lê o arquivo\n",
    "config = configparser.ConfigParser()\n",
    "config.read(file_path)\n",
    "\n",
    "data = config[section][key]\n",
    "\n",
    "# data = {key: config[section][key] for key in keys if key in config[section]}\n",
    "data = config[section][key]\n",
    "print(data)"
   ]
  },
  {
   "cell_type": "code",
   "execution_count": 11,
   "metadata": {},
   "outputs": [],
   "source": [
    "import os\n",
    "import pandas as pd\n",
    "from IPython.display import Image, display\n",
    "\n",
    "# Change to the parent directory to access the DFVC module\n",
    "os.chdir('..')\n",
    "from src import DFVC\n",
    "\n",
    "# Configure pandas display options for better readability\n",
    "pd.set_option('display.max_rows', None)  # Show all rows\n",
    "pd.set_option('display.max_columns', None)  # Show all columns\n",
    "\n",
    "# Define constant for database access\n",
    "DB_DIR = 'data'\n",
    "\n",
    "# Define constants for raw data acess\n",
    "RAW_HASH = '5cbe11afc7682723929c6216ce499a381aa486127b6997045b7d27e173ca2505'\n",
    "RAW_DATA_FILENAME = 'raw.dfvc'\n",
    "RAW_DATA_PATH = os.path.join(DB_DIR, RAW_DATA_FILENAME)\n",
    "\n",
    "# Define constants for raw data processing (preprocessing step 1)\n",
    "PRP_S1_HASH = ' '\n",
    "PRP_S1_FILENAME = 'prp_s1.dfvc'\n",
    "PRP_S1_PATH = os.path.join(DB_DIR, PRP_S1_FILENAME)"
   ]
  },
  {
   "cell_type": "code",
   "execution_count": 2,
   "metadata": {},
   "outputs": [
    {
     "name": "stdout",
     "output_type": "stream",
     "text": [
      "Version integrity verified successfully.\n"
     ]
    },
    {
     "data": {
      "text/html": [
       "\n",
       "        <div style='border:1px solid #1b2b30; padding:10px; border-radius:10px; width:max-content; \n",
       "                    font-family:Arial, sans-serif; background-color:#0a0e12; color:#8fa3a6; font-size:0.9em;'>\n",
       "            <div style='display: flex; align-items: center;'>\n",
       "                <button onclick=\"var info = document.getElementById('dfvc_124536465946192_info');\n",
       "                                if (info.style.display === 'none') {\n",
       "                                    info.style.display = 'block';\n",
       "                                    this.textContent = '-';\n",
       "                                } else {\n",
       "                                    info.style.display = 'none';\n",
       "                                    this.textContent = '+';\n",
       "                                }\"\n",
       "                        style='background-color:#202c31; color:#b5c9cb; border:none; padding:4px 12px; \n",
       "                            border-radius:5px; cursor:pointer; font-size:0.8em; margin-right:10px;'>\n",
       "                    +\n",
       "                </button>\n",
       "                <span style='font-weight: bold; color:#2d6f6b;'>DFVC Object</span>\n",
       "            </div>\n",
       "            <div id='dfvc_124536465946192_info' style='display:none; margin-top:10px;'>\n",
       "                <strong style='color:#2d6f6b;'>df_name==</strong>Raw Data<br>\n",
       "                <strong style='color:#2d6f6b;'>version==</strong>5cbe11afc7682723929c6216ce499a381aa486127b6997045b7d27e173ca2505<br>\n",
       "                <strong style='color:#2d6f6b;'>creation_date==</strong>2024:12:05 01:17:26 GMT+00<br>\n",
       "                <strong style='color:#2d6f6b;'>shape==</strong>(144, 3)<br>\n",
       "            </div>\n",
       "        </div>\n",
       "        "
      ],
      "text/plain": [
       "<src.dfvc.DFVC at 0x7143e7d07650>"
      ]
     },
     "metadata": {},
     "output_type": "display_data"
    }
   ],
   "source": [
    "raw_dfvc = DFVC.load_dfvc_file(RAW_DATA_PATH)\n",
    "raw_dfvc.compare_versions(RAW_HASH)\n",
    "display(raw_dfvc)"
   ]
  },
  {
   "cell_type": "code",
   "execution_count": null,
   "metadata": {},
   "outputs": [],
   "source": [
    "raw = raw_dfvc.get_dataframe()\n",
    "raw.head()"
   ]
  },
  {
   "cell_type": "code",
   "execution_count": null,
   "metadata": {},
   "outputs": [],
   "source": [
    "# quarter_label\n",
    "prp_s1_interim = pd.DataFrame(columns=['quarter', 'quarter_label', 'ig_maus', 'ig_revs', 'tk_maus', 'tk_revs'])\n",
    "prp_s1_interim['quarter_label'] = raw['timeseries_category'].unique()"
   ]
  },
  {
   "cell_type": "code",
   "execution_count": null,
   "metadata": {},
   "outputs": [],
   "source": [
    "# quarter\n",
    "def converter_para_data(trimestre):\n",
    "    tri, ano = trimestre.split()\n",
    "    tri = int(tri[1])\n",
    "    if tri == 1:\n",
    "        mes, dia = 3, 31\n",
    "    elif tri == 2:\n",
    "        mes, dia = 6, 30\n",
    "    elif tri == 3:\n",
    "        mes, dia = 9, 30\n",
    "    elif tri == 4:\n",
    "        mes, dia = 12, 31\n",
    "    return pd.Timestamp(year=int(ano), month=mes, day=dia)\n",
    "\n",
    "# Aplicar a transformação ao DataFrame df\n",
    "prp_s1_interim['quarter'] = prp_s1_interim['quarter_label'].apply(converter_para_data)\n",
    "\n",
    "prp_s1_interim = prp_s1_interim.sort_values(by='quarter').reset_index(drop=True)\n",
    "\n",
    "# Definir o ano atual\n",
    "current_year = pd.Timestamp.now().year\n",
    "\n",
    "# Filtrar os dados para manter apenas os últimos 5 anos\n",
    "prp_s1_interim = prp_s1_interim[prp_s1_interim['quarter'].dt.year >= (current_year - 6)]\n",
    "\n",
    "# Resetar o índice\n",
    "prp_s1_interim.reset_index(drop=True, inplace=True)"
   ]
  },
  {
   "cell_type": "code",
   "execution_count": null,
   "metadata": {},
   "outputs": [],
   "source": [
    "# Função para preencher o prp_s1_interim com os valores do raw\n",
    "def preencher_prp_s1_interim(raw, prp_s1_interim):\n",
    "    for index, row in raw.iterrows():\n",
    "        if 'Instagram' in row['iframe_title']:\n",
    "            if 'monthly app users' in row['iframe_title']:\n",
    "                prp_s1_interim.loc[prp_s1_interim['quarter_label'] == row['timeseries_category'], 'ig_maus'] = row['timeseries_value']\n",
    "            elif 'revenues' in row['iframe_title']:\n",
    "                prp_s1_interim.loc[prp_s1_interim['quarter_label'] == row['timeseries_category'], 'ig_revs'] = row['timeseries_value']\n",
    "        elif 'TikTok' in row['iframe_title']:\n",
    "            if 'MAUs' in row['iframe_title']:\n",
    "                prp_s1_interim.loc[prp_s1_interim['quarter_label'] == row['timeseries_category'], 'tk_maus'] = row['timeseries_value']\n",
    "            elif 'revenues' in row['iframe_title']:\n",
    "                prp_s1_interim.loc[prp_s1_interim['quarter_label'] == row['timeseries_category'], 'tk_revs'] = row['timeseries_value']\n",
    "    return prp_s1_interim\n",
    "\n",
    "# Preencher o prp_s1_interim\n",
    "prp_s1_interim = preencher_prp_s1_interim(raw, prp_s1_interim)"
   ]
  },
  {
   "cell_type": "code",
   "execution_count": null,
   "metadata": {},
   "outputs": [],
   "source": [
    "# Verifique se as colunas existem no DataFrame\n",
    "columns_to_convert = ['ig_maus', 'ig_revs', 'tk_maus', 'tk_revs']\n",
    "for column in columns_to_convert:\n",
    "    if column in prp_s1_interim.columns:\n",
    "        # Converta a coluna para int, lidando com possíveis valores nulos\n",
    "        prp_s1_interim[column] = pd.to_numeric(prp_s1_interim[column], errors='coerce').fillna(0).astype(int)\n",
    "    else:\n",
    "        print(f\"Coluna {column} não encontrada no DataFrame.\")"
   ]
  },
  {
   "cell_type": "code",
   "execution_count": null,
   "metadata": {},
   "outputs": [],
   "source": [
    "prp_s1 = DFVC(prp_s1_interim)\n",
    "display(prp_s1)\n",
    "prp_s1.compare_versions(prp_s1_hash)"
   ]
  },
  {
   "cell_type": "code",
   "execution_count": null,
   "metadata": {},
   "outputs": [],
   "source": [
    "if not os.path.exists(output_dir):\n",
    "    os.makedirs(output_dir)\n",
    "prp_s1.export_as_dfvc_file(output_path)"
   ]
  }
 ],
 "metadata": {
  "kernelspec": {
   "display_name": "venv",
   "language": "python",
   "name": "python3"
  },
  "language_info": {
   "codemirror_mode": {
    "name": "ipython",
    "version": 3
   },
   "file_extension": ".py",
   "mimetype": "text/x-python",
   "name": "python",
   "nbconvert_exporter": "python",
   "pygments_lexer": "ipython3",
   "version": "3.12.1"
  }
 },
 "nbformat": 4,
 "nbformat_minor": 2
}
