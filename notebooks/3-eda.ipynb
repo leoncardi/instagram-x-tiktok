{
 "cells": [
  {
   "cell_type": "markdown",
   "metadata": {},
   "source": [
    "# Setup"
   ]
  },
  {
   "cell_type": "markdown",
   "metadata": {},
   "source": [
    "## Parser Setup"
   ]
  },
  {
   "cell_type": "code",
   "execution_count": 1,
   "metadata": {},
   "outputs": [
    {
     "data": {
      "text/plain": [
       "['config.ini']"
      ]
     },
     "execution_count": 1,
     "metadata": {},
     "output_type": "execute_result"
    }
   ],
   "source": [
    "import configparser\n",
    "\n",
    "file_path = 'config.ini'\n",
    "config = configparser.ConfigParser()\n",
    "config.read(file_path)"
   ]
  },
  {
   "cell_type": "markdown",
   "metadata": {},
   "source": [
    "## Database and Integratiy Setup"
   ]
  },
  {
   "cell_type": "code",
   "execution_count": 2,
   "metadata": {},
   "outputs": [],
   "source": [
    "import os\n",
    "\n",
    "# Change to the parent directory to access the DFVC module\n",
    "os.chdir('..')\n",
    "from src import DFVC\n",
    "\n",
    "# Define constant for database access\n",
    "DB_DIR = 'data'\n",
    "\n",
    "# Define constants for preprocessed 1 data access\n",
    "PRP_S1_DF_NAME = config['database']['prp_data_s1_df_name']\n",
    "PRP_S1_FILENAME = config['database']['prp_data_s1_filename']\n",
    "PRP_S1_HASH = config['database']['prp_data_s1_version_hash']\n",
    "\n",
    "PRP_S1_PATH = os.path.join(DB_DIR, PRP_S1_FILENAME)"
   ]
  },
  {
   "cell_type": "markdown",
   "metadata": {},
   "source": [
    "## Data Analysis and Visualization Setup"
   ]
  },
  {
   "cell_type": "code",
   "execution_count": 3,
   "metadata": {},
   "outputs": [],
   "source": [
    "import pandas as pd\n",
    "import matplotlib.pyplot as plt\n",
    "import seaborn as sns"
   ]
  },
  {
   "cell_type": "markdown",
   "metadata": {},
   "source": [
    "# Data Integrity Verification and Getting Started with the Data"
   ]
  },
  {
   "cell_type": "code",
   "execution_count": 4,
   "metadata": {},
   "outputs": [
    {
     "name": "stdout",
     "output_type": "stream",
     "text": [
      "Version integrity verified successfully.\n"
     ]
    },
    {
     "data": {
      "text/html": [
       "\n",
       "        <div style='border:1px solid #1b2b30; padding:10px; border-radius:10px; width:max-content; \n",
       "                    font-family:Arial, sans-serif; background-color:#0a0e12; color:#8fa3a6; font-size:0.9em;'>\n",
       "            <div style='display: flex; align-items: center;'>\n",
       "                <button onclick=\"var info = document.getElementById('dfvc_128369811042432_info');\n",
       "                                if (info.style.display === 'none') {\n",
       "                                    info.style.display = 'block';\n",
       "                                    this.textContent = '-';\n",
       "                                } else {\n",
       "                                    info.style.display = 'none';\n",
       "                                    this.textContent = '+';\n",
       "                                }\"\n",
       "                        style='background-color:#202c31; color:#b5c9cb; border:none; padding:4px 12px; \n",
       "                            border-radius:5px; cursor:pointer; font-size:0.8em; margin-right:10px;'>\n",
       "                    +\n",
       "                </button>\n",
       "                <span style='font-weight: bold; color:#2d6f6b;'>DFVC Object</span>\n",
       "            </div>\n",
       "            <div id='dfvc_128369811042432_info' style='display:none; margin-top:10px;'>\n",
       "                <strong style='color:#2d6f6b;'>df_name==</strong>Preprocessed Data (Stage 1)<br>\n",
       "                <strong style='color:#2d6f6b;'>version==</strong>d3fe3c81e5f27076df4efc27a4849dd3c3be7bf360f2e91fc4b498cdf06a1b27<br>\n",
       "                <strong style='color:#2d6f6b;'>creation_date==</strong>2024:12:05 18:47:26 GMT+00<br>\n",
       "                <strong style='color:#2d6f6b;'>shape==</strong>(23, 6)<br>\n",
       "            </div>\n",
       "        </div>\n",
       "        "
      ],
      "text/plain": [
       "<src.dfvc.DFVC at 0x74c06cfcb080>"
      ]
     },
     "metadata": {},
     "output_type": "display_data"
    }
   ],
   "source": [
    "prp_s1_dfvc = DFVC.load_dfvc_file(PRP_S1_PATH)\n",
    "prp_s1_dfvc.compare_versions(PRP_S1_HASH)\n",
    "display(prp_s1_dfvc)"
   ]
  },
  {
   "cell_type": "code",
   "execution_count": 5,
   "metadata": {},
   "outputs": [],
   "source": [
    "data = prp_s1_dfvc.get_dataframe()"
   ]
  },
  {
   "cell_type": "markdown",
   "metadata": {},
   "source": [
    "# Data Overview"
   ]
  },
  {
   "cell_type": "code",
   "execution_count": 17,
   "metadata": {},
   "outputs": [
    {
     "data": {
      "text/html": [
       "<div>\n",
       "<style scoped>\n",
       "    .dataframe tbody tr th:only-of-type {\n",
       "        vertical-align: middle;\n",
       "    }\n",
       "\n",
       "    .dataframe tbody tr th {\n",
       "        vertical-align: top;\n",
       "    }\n",
       "\n",
       "    .dataframe thead th {\n",
       "        text-align: right;\n",
       "    }\n",
       "</style>\n",
       "<table border=\"1\" class=\"dataframe\">\n",
       "  <thead>\n",
       "    <tr style=\"text-align: right;\">\n",
       "      <th></th>\n",
       "      <th>quarter</th>\n",
       "      <th>quarter_label</th>\n",
       "      <th>ig_maus</th>\n",
       "      <th>ig_revs</th>\n",
       "      <th>tk_maus</th>\n",
       "      <th>tk_revs</th>\n",
       "    </tr>\n",
       "  </thead>\n",
       "  <tbody>\n",
       "    <tr>\n",
       "      <th>0</th>\n",
       "      <td>2019-03-31</td>\n",
       "      <td>Q1 2019</td>\n",
       "      <td>1160</td>\n",
       "      <td>3255</td>\n",
       "      <td>333</td>\n",
       "      <td>56</td>\n",
       "    </tr>\n",
       "    <tr>\n",
       "      <th>1</th>\n",
       "      <td>2019-06-30</td>\n",
       "      <td>Q2 2019</td>\n",
       "      <td>1210</td>\n",
       "      <td>3887</td>\n",
       "      <td>381</td>\n",
       "      <td>65</td>\n",
       "    </tr>\n",
       "    <tr>\n",
       "      <th>2</th>\n",
       "      <td>2019-09-30</td>\n",
       "      <td>Q3 2019</td>\n",
       "      <td>1255</td>\n",
       "      <td>4066</td>\n",
       "      <td>439</td>\n",
       "      <td>82</td>\n",
       "    </tr>\n",
       "    <tr>\n",
       "      <th>3</th>\n",
       "      <td>2019-12-31</td>\n",
       "      <td>Q4 2019</td>\n",
       "      <td>1300</td>\n",
       "      <td>5016</td>\n",
       "      <td>508</td>\n",
       "      <td>167</td>\n",
       "    </tr>\n",
       "    <tr>\n",
       "      <th>4</th>\n",
       "      <td>2020-03-31</td>\n",
       "      <td>Q1 2020</td>\n",
       "      <td>1365</td>\n",
       "      <td>4475</td>\n",
       "      <td>583</td>\n",
       "      <td>347</td>\n",
       "    </tr>\n",
       "  </tbody>\n",
       "</table>\n",
       "</div>"
      ],
      "text/plain": [
       "     quarter quarter_label  ig_maus  ig_revs  tk_maus  tk_revs\n",
       "0 2019-03-31       Q1 2019     1160     3255      333       56\n",
       "1 2019-06-30       Q2 2019     1210     3887      381       65\n",
       "2 2019-09-30       Q3 2019     1255     4066      439       82\n",
       "3 2019-12-31       Q4 2019     1300     5016      508      167\n",
       "4 2020-03-31       Q1 2020     1365     4475      583      347"
      ]
     },
     "metadata": {},
     "output_type": "display_data"
    },
    {
     "data": {
      "text/html": [
       "<div>\n",
       "<style scoped>\n",
       "    .dataframe tbody tr th:only-of-type {\n",
       "        vertical-align: middle;\n",
       "    }\n",
       "\n",
       "    .dataframe tbody tr th {\n",
       "        vertical-align: top;\n",
       "    }\n",
       "\n",
       "    .dataframe thead th {\n",
       "        text-align: right;\n",
       "    }\n",
       "</style>\n",
       "<table border=\"1\" class=\"dataframe\">\n",
       "  <thead>\n",
       "    <tr style=\"text-align: right;\">\n",
       "      <th></th>\n",
       "      <th>quarter</th>\n",
       "      <th>quarter_label</th>\n",
       "      <th>ig_maus</th>\n",
       "      <th>ig_revs</th>\n",
       "      <th>tk_maus</th>\n",
       "      <th>tk_revs</th>\n",
       "    </tr>\n",
       "  </thead>\n",
       "  <tbody>\n",
       "    <tr>\n",
       "      <th>18</th>\n",
       "      <td>2023-09-30</td>\n",
       "      <td>Q3 2023</td>\n",
       "      <td>2145</td>\n",
       "      <td>12736</td>\n",
       "      <td>1616</td>\n",
       "      <td>4241</td>\n",
       "    </tr>\n",
       "    <tr>\n",
       "      <th>19</th>\n",
       "      <td>2023-12-31</td>\n",
       "      <td>Q4 2023</td>\n",
       "      <td>2180</td>\n",
       "      <td>15322</td>\n",
       "      <td>1635</td>\n",
       "      <td>4997</td>\n",
       "    </tr>\n",
       "    <tr>\n",
       "      <th>20</th>\n",
       "      <td>2024-03-31</td>\n",
       "      <td>Q1 2024</td>\n",
       "      <td>2231</td>\n",
       "      <td>14472</td>\n",
       "      <td>1666</td>\n",
       "      <td>5855</td>\n",
       "    </tr>\n",
       "    <tr>\n",
       "      <th>21</th>\n",
       "      <td>2024-06-30</td>\n",
       "      <td>Q2 2024</td>\n",
       "      <td>2250</td>\n",
       "      <td>15638</td>\n",
       "      <td>1685</td>\n",
       "      <td>6922</td>\n",
       "    </tr>\n",
       "    <tr>\n",
       "      <th>22</th>\n",
       "      <td>2024-09-30</td>\n",
       "      <td>Q3 2024</td>\n",
       "      <td>2270</td>\n",
       "      <td>16641</td>\n",
       "      <td>1726</td>\n",
       "      <td>7737</td>\n",
       "    </tr>\n",
       "  </tbody>\n",
       "</table>\n",
       "</div>"
      ],
      "text/plain": [
       "      quarter quarter_label  ig_maus  ig_revs  tk_maus  tk_revs\n",
       "18 2023-09-30       Q3 2023     2145    12736     1616     4241\n",
       "19 2023-12-31       Q4 2023     2180    15322     1635     4997\n",
       "20 2024-03-31       Q1 2024     2231    14472     1666     5855\n",
       "21 2024-06-30       Q2 2024     2250    15638     1685     6922\n",
       "22 2024-09-30       Q3 2024     2270    16641     1726     7737"
      ]
     },
     "metadata": {},
     "output_type": "display_data"
    },
    {
     "name": "stdout",
     "output_type": "stream",
     "text": [
      "shape: (23, 6)\n"
     ]
    },
    {
     "data": {
      "text/plain": [
       "quarter          datetime64[ns]\n",
       "quarter_label            object\n",
       "ig_maus                   int64\n",
       "ig_revs                   int64\n",
       "tk_maus                   int64\n",
       "tk_revs                   int64\n",
       "dtype: object"
      ]
     },
     "metadata": {},
     "output_type": "display_data"
    },
    {
     "data": {
      "text/html": [
       "<div>\n",
       "<style scoped>\n",
       "    .dataframe tbody tr th:only-of-type {\n",
       "        vertical-align: middle;\n",
       "    }\n",
       "\n",
       "    .dataframe tbody tr th {\n",
       "        vertical-align: top;\n",
       "    }\n",
       "\n",
       "    .dataframe thead th {\n",
       "        text-align: right;\n",
       "    }\n",
       "</style>\n",
       "<table border=\"1\" class=\"dataframe\">\n",
       "  <thead>\n",
       "    <tr style=\"text-align: right;\">\n",
       "      <th></th>\n",
       "      <th>ig_maus</th>\n",
       "      <th>ig_revs</th>\n",
       "      <th>tk_maus</th>\n",
       "      <th>tk_revs</th>\n",
       "    </tr>\n",
       "  </thead>\n",
       "  <tbody>\n",
       "    <tr>\n",
       "      <th>count</th>\n",
       "      <td>23.000000</td>\n",
       "      <td>23.000000</td>\n",
       "      <td>23.000000</td>\n",
       "      <td>23.000000</td>\n",
       "    </tr>\n",
       "    <tr>\n",
       "      <th>mean</th>\n",
       "      <td>1778.304348</td>\n",
       "      <td>8856.434783</td>\n",
       "      <td>1096.217391</td>\n",
       "      <td>2353.608696</td>\n",
       "    </tr>\n",
       "    <tr>\n",
       "      <th>std</th>\n",
       "      <td>370.072774</td>\n",
       "      <td>4045.684208</td>\n",
       "      <td>484.474782</td>\n",
       "      <td>2275.400639</td>\n",
       "    </tr>\n",
       "    <tr>\n",
       "      <th>min</th>\n",
       "      <td>1160.000000</td>\n",
       "      <td>3255.000000</td>\n",
       "      <td>333.000000</td>\n",
       "      <td>56.000000</td>\n",
       "    </tr>\n",
       "    <tr>\n",
       "      <th>25%</th>\n",
       "      <td>1462.500000</td>\n",
       "      <td>5207.500000</td>\n",
       "      <td>683.500000</td>\n",
       "      <td>708.000000</td>\n",
       "    </tr>\n",
       "    <tr>\n",
       "      <th>50%</th>\n",
       "      <td>1845.000000</td>\n",
       "      <td>8037.000000</td>\n",
       "      <td>1112.000000</td>\n",
       "      <td>1628.000000</td>\n",
       "    </tr>\n",
       "    <tr>\n",
       "      <th>75%</th>\n",
       "      <td>2100.000000</td>\n",
       "      <td>11323.000000</td>\n",
       "      <td>1568.000000</td>\n",
       "      <td>3467.000000</td>\n",
       "    </tr>\n",
       "    <tr>\n",
       "      <th>max</th>\n",
       "      <td>2270.000000</td>\n",
       "      <td>16641.000000</td>\n",
       "      <td>1726.000000</td>\n",
       "      <td>7737.000000</td>\n",
       "    </tr>\n",
       "  </tbody>\n",
       "</table>\n",
       "</div>"
      ],
      "text/plain": [
       "           ig_maus       ig_revs      tk_maus      tk_revs\n",
       "count    23.000000     23.000000    23.000000    23.000000\n",
       "mean   1778.304348   8856.434783  1096.217391  2353.608696\n",
       "std     370.072774   4045.684208   484.474782  2275.400639\n",
       "min    1160.000000   3255.000000   333.000000    56.000000\n",
       "25%    1462.500000   5207.500000   683.500000   708.000000\n",
       "50%    1845.000000   8037.000000  1112.000000  1628.000000\n",
       "75%    2100.000000  11323.000000  1568.000000  3467.000000\n",
       "max    2270.000000  16641.000000  1726.000000  7737.000000"
      ]
     },
     "metadata": {},
     "output_type": "display_data"
    },
    {
     "data": {
      "image/png": "[encoded data removed]",
      "text/plain": [
       "<Figure size 640x480 with 1 Axes>"
      ]
     },
     "metadata": {},
     "output_type": "display_data"
    }
   ],
   "source": [
    "def plot_data_overview_stats(df):\n",
    "    display(df.head())\n",
    "    display(df.tail())\n",
    "    print(f'shape: {df.shape}')\n",
    "    display(df.dtypes)\n",
    "    display(df.drop(columns=['quarter']).describe())\n",
    "    sns.boxplot(df)\n",
    "\n",
    "plot_data_overview_stats(data)"
   ]
  },
  {
   "cell_type": "code",
   "execution_count": null,
   "metadata": {},
   "outputs": [],
   "source": [
    "sns.lineplot(data=data, x='quarter', y='ig_maus', label='Instagram MAUs')\n",
    "sns.lineplot(data=data, x='quarter', y='tk_maus', label='TikTok MAUs')"
   ]
  },
  {
   "cell_type": "code",
   "execution_count": null,
   "metadata": {},
   "outputs": [],
   "source": [
    "sns.lineplot(data=data, x='quarter', y='ig_maus', label='Instagram MAUs')"
   ]
  },
  {
   "cell_type": "code",
   "execution_count": null,
   "metadata": {},
   "outputs": [],
   "source": [
    "sns.lineplot(data=data, x='quarter', y='ig_revs', label='Instagram Revenue')\n",
    "sns.lineplot(data=data, x='quarter', y='tk_revs', label='TikTok Revenue')"
   ]
  },
  {
   "cell_type": "code",
   "execution_count": null,
   "metadata": {},
   "outputs": [],
   "source": [
    "sns.lineplot(data=data, x='quarter', y='ig_revs', label='Instagram Revenue')"
   ]
  },
  {
   "cell_type": "code",
   "execution_count": null,
   "metadata": {},
   "outputs": [],
   "source": [
    "sns.lineplot(data=data, x='quarter', y='tk_revs', label='TikTok Revenue')"
   ]
  },
  {
   "cell_type": "code",
   "execution_count": null,
   "metadata": {},
   "outputs": [],
   "source": [
    "sns.pairplot(data)"
   ]
  },
  {
   "cell_type": "code",
   "execution_count": null,
   "metadata": {},
   "outputs": [],
   "source": [
    "numeric_data = data.select_dtypes(include=['float64', 'int64'])\n",
    "sns.heatmap(numeric_data.corr(), annot=True)"
   ]
  },
  {
   "cell_type": "code",
   "execution_count": null,
   "metadata": {},
   "outputs": [],
   "source": [
    "# regplot\n",
    "ax = sns.regplot(data=data, x='ig_maus', y='ig_revs', label='Instagram')\n",
    "ax = sns.regplot(data=data, x='tk_maus', y='tk_revs', label='TikTok')\n",
    "ax.legend()\n",
    "ax.set_xlabel('MAUs')\n",
    "ax.set_ylabel('Revenues')\n",
    "sns.despine()"
   ]
  },
  {
   "cell_type": "markdown",
   "metadata": {},
   "source": [
    "## Presupostos"
   ]
  },
  {
   "cell_type": "code",
   "execution_count": null,
   "metadata": {},
   "outputs": [],
   "source": [
    "import pandas as pd\n",
    "import matplotlib.pyplot as plt\n",
    "import seaborn as sns\n",
    "from statsmodels.tsa.seasonal import seasonal_decompose\n",
    "\n",
    "def avaliar_pressupostos_prophet(data):\n",
    "    # Verifique se o DataFrame possui as colunas 'ds' e 'y'\n",
    "    if 'ds' not in data.columns or 'y' not in data.columns:\n",
    "        raise ValueError(\"O DataFrame deve conter as colunas 'ds' (datas) e 'y' (valores).\")\n",
    "    \n",
    "    # Converta a coluna 'ds' para o formato de data\n",
    "    data['ds'] = pd.to_datetime(data['ds'], errors='coerce')\n",
    "    if data['ds'].isnull().any():\n",
    "        raise ValueError(\"A coluna 'ds' contém valores que não podem ser convertidos para datas.\")\n",
    "    \n",
    "    # Verifique se há valores ausentes na coluna 'y'\n",
    "    if data['y'].isnull().any():\n",
    "        raise ValueError(\"A coluna 'y' contém valores ausentes.\")\n",
    "    \n",
    "    # Plotar a série temporal para verificar tendências e sazonalidades\n",
    "    plt.figure(figsize=(10, 6))\n",
    "    plt.plot(data['ds'], data['y'])\n",
    "    plt.title('Série Temporal')\n",
    "    plt.xlabel('Data')\n",
    "    plt.ylabel('Valor')\n",
    "    plt.show()\n",
    "    \n",
    "    # Plotar o boxplot para verificar a distribuição dos dados\n",
    "    plt.figure(figsize=(10, 6))\n",
    "    sns.boxplot(x=data['y'])\n",
    "    plt.title('Boxplot dos Valores')\n",
    "    plt.xlabel('Valor')\n",
    "    plt.show()\n",
    "    \n",
    "    # Verificar a decomposição da série temporal para identificar tendências e sazonalidades\n",
    "    result = seasonal_decompose(data.set_index('ds')['y'], model='additive', period=1)\n",
    "    result.plot()\n",
    "    plt.show()\n",
    "    \n",
    "    print(\"Se os gráficos mostrarem tendências e sazonalidades claras, a variável provavelmente atende aos pressupostos do Prophet.\")\n",
    "\n",
    "# Supondo que 'data' seja o DataFrame contendo a série temporal\n",
    "# Avaliar os pressupostos do Prophet para a coluna 'ig_maus'\n",
    "data_prophet = data[['quarter', 'ig_maus']].rename(columns={'quarter': 'ds', 'ig_maus': 'y'})\n",
    "avaliar_pressupostos_prophet(data_prophet)"
   ]
  },
  {
   "cell_type": "markdown",
   "metadata": {},
   "source": [
    "# Interpetação"
   ]
  },
  {
   "cell_type": "markdown",
   "metadata": {},
   "source": [
    "## Discussão/interpretação dos resultados MAUs\n",
    "- correlação linear forte entre as variáveis MAUs e Receita. Apontando possível relação de causa e efeito entre as variáveis devido a MAUs ser um valor que pode ser considerado como um indicador de sucesso do aplicativo.\n",
    "- apenas a variavel MAUs do instagram não é estacionária, já a MAUs do TikTok é estacionária. Destaque posterior analise dos trimestres 2 e 3 que parecem ser pontos de virada. \n",
    "- claras tendência positiva em ambas as variáveis MAUs. Porém a MAUs do TikTok nos ultimos periodos apresenta estabilidade, o que torna uma variável estacionária, apesar de poder aparentar uma tendência positiva constante.\n",
    "- a série de receita apresenta um pouco de sazonalidade nos dados do Instagram, mas não é muito forte se comparada com as tendências.\n",
    "\n",
    "\n",
    "\n",
    "## plano definido:\n",
    "Prophet para MAUs e regressão linear para receita usando as previsões de MAUs ainda faz sentido. Aqui está a justificativa:\n",
    "\n",
    "Justificativa:\n",
    "Correlação linear forte entre MAUs e Receita:\n",
    "Isso indica que o número de MAUs pode ser um bom preditor para as receitas. Usar as previsões de MAUs como feature para prever receitas é uma abordagem coerente.\n",
    "\n",
    "Nenhuma das variáveis é estacionária:\n",
    "Isso reforça o uso do Prophet, que é projetado para lidar com séries não estacionárias. No caso de MAUs, você pode seguir com Prophet sem necessidade de transformações.\n",
    "\n",
    "Clara tendência positiva:\n",
    "O Prophet modela bem a tendência (ele tem componentes de tendência embutidos no modelo). Já para a receita, a regressão linear é adequada quando existe uma relação linear clara entre as variáveis, como você observou.\n",
    "\n",
    "Sazonalidade na receita é moderada:\n",
    "Como a sazonalidade na receita é relativamente fraca comparada à tendência, a regressão linear pode ainda ser apropriada, especialmente se o foco principal for prever a tendência de crescimento da receita com base nos MAUs.\n",
    "\n",
    "MAUs sem sazonalidade:\n",
    "O fato de MAUs não apresentar sazonalidade torna a escolha por Prophet ainda mais válida, pois o Prophet pode captar bem a tendência sem complicações adicionais. Uma análise mais profunda de sazonalidade poderia ser feita, mas, por ora, é razoável seguir com o Prophet.\n",
    "\n",
    "Veredicto:\n",
    "Prophet para prever MAUs continua fazendo sentido, pois ele modela bem a tendência e lida com a não estacionariedade.\n",
    "Regressão linear para prever receitas usando as previsões de MAUs também continua válida, dada a forte correlação linear entre as variáveis e a ausência de uma sazonalidade forte que pudesse exigir modelos mais complexos.\n",
    "\n",
    "### Próximos Passos:\n",
    "1. Modelar as previsões de MAUs com Prophet;\n",
    "2. Usar as previsões de MAUs como feature para um modelo de regressão linear para prever as receitas."
   ]
  }
 ],
 "metadata": {
  "kernelspec": {
   "display_name": "venv",
   "language": "python",
   "name": "python3"
  },
  "language_info": {
   "codemirror_mode": {
    "name": "ipython",
    "version": 3
   },
   "file_extension": ".py",
   "mimetype": "text/x-python",
   "name": "python",
   "nbconvert_exporter": "python",
   "pygments_lexer": "ipython3",
   "version": "3.12.1"
  }
 },
 "nbformat": 4,
 "nbformat_minor": 2
}
