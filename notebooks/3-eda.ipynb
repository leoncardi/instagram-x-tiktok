{
 "cells": [
  {
   "cell_type": "code",
   "execution_count": 1,
   "metadata": {},
   "outputs": [
    {
     "name": "stdout",
     "output_type": "stream",
     "text": [
      "Hash of DataFrame E: 296f14a97e4690aa03375b3fa88ba7e2c01c9f2c14685ac408b19be7352ce5ca\n",
      "Hash of DataFrame A: 296f14a97e4690aa03375b3fa88ba7e2c01c9f2c14685ac408b19be7352ce5ca\n",
      "-> DataFrame passed integrity test.\n"
     ]
    }
   ],
   "source": [
    "import os\n",
    "from IPython.display import display\n",
    "\n",
    "import pandas as pd\n",
    "import seaborn as sns\n",
    "import matplotlib.pyplot as plt\n",
    "\n",
    "os.chdir('..')\n",
    "\n",
    "from src import dit\n",
    "sns.set_palette('tab10')\n",
    "data = pd.read_parquet('data/preprocessed/prp_s1_data.parquet')\n",
    "prp_s1_hash = '296f14a97e4690aa03375b3fa88ba7e2c01c9f2c14685ac408b19be7352ce5ca'\n",
    "dit(data, prp_s1_hash)"
   ]
  },
  {
   "cell_type": "code",
   "execution_count": 2,
   "metadata": {},
   "outputs": [
    {
     "data": {
      "text/html": [
       "<div>\n",
       "<style scoped>\n",
       "    .dataframe tbody tr th:only-of-type {\n",
       "        vertical-align: middle;\n",
       "    }\n",
       "\n",
       "    .dataframe tbody tr th {\n",
       "        vertical-align: top;\n",
       "    }\n",
       "\n",
       "    .dataframe thead th {\n",
       "        text-align: right;\n",
       "    }\n",
       "</style>\n",
       "<table border=\"1\" class=\"dataframe\">\n",
       "  <thead>\n",
       "    <tr style=\"text-align: right;\">\n",
       "      <th></th>\n",
       "      <th>quarter</th>\n",
       "      <th>quarter_label</th>\n",
       "      <th>ig_maus</th>\n",
       "      <th>ig_revs</th>\n",
       "      <th>tk_maus</th>\n",
       "      <th>tk_revs</th>\n",
       "    </tr>\n",
       "  </thead>\n",
       "  <tbody>\n",
       "    <tr>\n",
       "      <th>0</th>\n",
       "      <td>2018-03-31</td>\n",
       "      <td>Q1 2018</td>\n",
       "      <td>960</td>\n",
       "      <td>1693</td>\n",
       "      <td>85</td>\n",
       "      <td>29</td>\n",
       "    </tr>\n",
       "    <tr>\n",
       "      <th>1</th>\n",
       "      <td>2018-06-30</td>\n",
       "      <td>Q2 2018</td>\n",
       "      <td>1000</td>\n",
       "      <td>2030</td>\n",
       "      <td>133</td>\n",
       "      <td>29</td>\n",
       "    </tr>\n",
       "    <tr>\n",
       "      <th>2</th>\n",
       "      <td>2018-09-30</td>\n",
       "      <td>Q3 2018</td>\n",
       "      <td>1060</td>\n",
       "      <td>2609</td>\n",
       "      <td>198</td>\n",
       "      <td>43</td>\n",
       "    </tr>\n",
       "    <tr>\n",
       "      <th>3</th>\n",
       "      <td>2018-12-31</td>\n",
       "      <td>Q4 2018</td>\n",
       "      <td>1115</td>\n",
       "      <td>4031</td>\n",
       "      <td>271</td>\n",
       "      <td>49</td>\n",
       "    </tr>\n",
       "    <tr>\n",
       "      <th>4</th>\n",
       "      <td>2019-03-31</td>\n",
       "      <td>Q1 2019</td>\n",
       "      <td>1160</td>\n",
       "      <td>3255</td>\n",
       "      <td>333</td>\n",
       "      <td>56</td>\n",
       "    </tr>\n",
       "  </tbody>\n",
       "</table>\n",
       "</div>"
      ],
      "text/plain": [
       "     quarter quarter_label  ig_maus  ig_revs  tk_maus  tk_revs\n",
       "0 2018-03-31       Q1 2018      960     1693       85       29\n",
       "1 2018-06-30       Q2 2018     1000     2030      133       29\n",
       "2 2018-09-30       Q3 2018     1060     2609      198       43\n",
       "3 2018-12-31       Q4 2018     1115     4031      271       49\n",
       "4 2019-03-31       Q1 2019     1160     3255      333       56"
      ]
     },
     "metadata": {},
     "output_type": "display_data"
    },
    {
     "data": {
      "text/html": [
       "<div>\n",
       "<style scoped>\n",
       "    .dataframe tbody tr th:only-of-type {\n",
       "        vertical-align: middle;\n",
       "    }\n",
       "\n",
       "    .dataframe tbody tr th {\n",
       "        vertical-align: top;\n",
       "    }\n",
       "\n",
       "    .dataframe thead th {\n",
       "        text-align: right;\n",
       "    }\n",
       "</style>\n",
       "<table border=\"1\" class=\"dataframe\">\n",
       "  <thead>\n",
       "    <tr style=\"text-align: right;\">\n",
       "      <th></th>\n",
       "      <th>quarter</th>\n",
       "      <th>quarter_label</th>\n",
       "      <th>ig_maus</th>\n",
       "      <th>ig_revs</th>\n",
       "      <th>tk_maus</th>\n",
       "      <th>tk_revs</th>\n",
       "    </tr>\n",
       "  </thead>\n",
       "  <tbody>\n",
       "    <tr>\n",
       "      <th>22</th>\n",
       "      <td>2023-09-30</td>\n",
       "      <td>Q3 2023</td>\n",
       "      <td>2145</td>\n",
       "      <td>12736</td>\n",
       "      <td>1616</td>\n",
       "      <td>4241</td>\n",
       "    </tr>\n",
       "    <tr>\n",
       "      <th>23</th>\n",
       "      <td>2023-12-31</td>\n",
       "      <td>Q4 2023</td>\n",
       "      <td>2180</td>\n",
       "      <td>15322</td>\n",
       "      <td>1635</td>\n",
       "      <td>4997</td>\n",
       "    </tr>\n",
       "    <tr>\n",
       "      <th>24</th>\n",
       "      <td>2024-03-31</td>\n",
       "      <td>Q1 2024</td>\n",
       "      <td>2231</td>\n",
       "      <td>14472</td>\n",
       "      <td>1666</td>\n",
       "      <td>5855</td>\n",
       "    </tr>\n",
       "    <tr>\n",
       "      <th>25</th>\n",
       "      <td>2024-06-30</td>\n",
       "      <td>Q2 2024</td>\n",
       "      <td>2250</td>\n",
       "      <td>15638</td>\n",
       "      <td>1685</td>\n",
       "      <td>6922</td>\n",
       "    </tr>\n",
       "    <tr>\n",
       "      <th>26</th>\n",
       "      <td>2024-09-30</td>\n",
       "      <td>Q3 2024</td>\n",
       "      <td>2270</td>\n",
       "      <td>16641</td>\n",
       "      <td>1726</td>\n",
       "      <td>7737</td>\n",
       "    </tr>\n",
       "  </tbody>\n",
       "</table>\n",
       "</div>"
      ],
      "text/plain": [
       "      quarter quarter_label  ig_maus  ig_revs  tk_maus  tk_revs\n",
       "22 2023-09-30       Q3 2023     2145    12736     1616     4241\n",
       "23 2023-12-31       Q4 2023     2180    15322     1635     4997\n",
       "24 2024-03-31       Q1 2024     2231    14472     1666     5855\n",
       "25 2024-06-30       Q2 2024     2250    15638     1685     6922\n",
       "26 2024-09-30       Q3 2024     2270    16641     1726     7737"
      ]
     },
     "metadata": {},
     "output_type": "display_data"
    },
    {
     "data": {
      "text/plain": [
       "(27, 6)"
      ]
     },
     "metadata": {},
     "output_type": "display_data"
    }
   ],
   "source": [
    "display(data.head())\n",
    "display(data.tail())\n",
    "display(data.shape)"
   ]
  },
  {
   "cell_type": "code",
   "execution_count": null,
   "metadata": {},
   "outputs": [],
   "source": [
    "data.dtypes"
   ]
  },
  {
   "cell_type": "code",
   "execution_count": null,
   "metadata": {},
   "outputs": [],
   "source": [
    "data.drop(columns=['quarter']).describe()"
   ]
  },
  {
   "cell_type": "code",
   "execution_count": null,
   "metadata": {},
   "outputs": [],
   "source": [
    "sns.boxplot(data)"
   ]
  },
  {
   "cell_type": "code",
   "execution_count": null,
   "metadata": {},
   "outputs": [],
   "source": [
    "sns.lineplot(data=data, x='quarter', y='ig_maus', label='Instagram MAUs')\n",
    "sns.lineplot(data=data, x='quarter', y='tk_maus', label='TikTok MAUs')"
   ]
  },
  {
   "cell_type": "code",
   "execution_count": null,
   "metadata": {},
   "outputs": [],
   "source": [
    "sns.lineplot(data=data, x='quarter', y='ig_maus', label='Instagram MAUs')"
   ]
  },
  {
   "cell_type": "code",
   "execution_count": null,
   "metadata": {},
   "outputs": [],
   "source": [
    "sns.lineplot(data=data, x='quarter', y='ig_revs', label='Instagram Revenue')\n",
    "sns.lineplot(data=data, x='quarter', y='tk_revs', label='TikTok Revenue')"
   ]
  },
  {
   "cell_type": "code",
   "execution_count": null,
   "metadata": {},
   "outputs": [],
   "source": [
    "sns.lineplot(data=data, x='quarter', y='ig_revs', label='Instagram Revenue')"
   ]
  },
  {
   "cell_type": "code",
   "execution_count": null,
   "metadata": {},
   "outputs": [],
   "source": [
    "sns.lineplot(data=data, x='quarter', y='tk_revs', label='TikTok Revenue')"
   ]
  },
  {
   "cell_type": "code",
   "execution_count": null,
   "metadata": {},
   "outputs": [],
   "source": [
    "sns.pairplot(data)"
   ]
  },
  {
   "cell_type": "code",
   "execution_count": null,
   "metadata": {},
   "outputs": [],
   "source": [
    "numeric_data = data.select_dtypes(include=['float64', 'int64'])\n",
    "sns.heatmap(numeric_data.corr(), annot=True)"
   ]
  },
  {
   "cell_type": "code",
   "execution_count": null,
   "metadata": {},
   "outputs": [],
   "source": [
    "# regplot\n",
    "ax = sns.regplot(data=data, x='ig_maus', y='ig_revs', label='Instagram')\n",
    "ax = sns.regplot(data=data, x='tk_maus', y='tk_revs', label='TikTok')\n",
    "ax.legend()\n",
    "ax.set_xlabel('MAUs')\n",
    "ax.set_ylabel('Revenues')\n",
    "sns.despine()"
   ]
  },
  {
   "cell_type": "markdown",
   "metadata": {},
   "source": [
    "## Presupostos"
   ]
  },
  {
   "cell_type": "code",
   "execution_count": null,
   "metadata": {},
   "outputs": [],
   "source": [
    "import pandas as pd\n",
    "import matplotlib.pyplot as plt\n",
    "import seaborn as sns\n",
    "from statsmodels.tsa.seasonal import seasonal_decompose\n",
    "\n",
    "def avaliar_pressupostos_prophet(data):\n",
    "    # Verifique se o DataFrame possui as colunas 'ds' e 'y'\n",
    "    if 'ds' not in data.columns or 'y' not in data.columns:\n",
    "        raise ValueError(\"O DataFrame deve conter as colunas 'ds' (datas) e 'y' (valores).\")\n",
    "    \n",
    "    # Converta a coluna 'ds' para o formato de data\n",
    "    data['ds'] = pd.to_datetime(data['ds'], errors='coerce')\n",
    "    if data['ds'].isnull().any():\n",
    "        raise ValueError(\"A coluna 'ds' contém valores que não podem ser convertidos para datas.\")\n",
    "    \n",
    "    # Verifique se há valores ausentes na coluna 'y'\n",
    "    if data['y'].isnull().any():\n",
    "        raise ValueError(\"A coluna 'y' contém valores ausentes.\")\n",
    "    \n",
    "    # Plotar a série temporal para verificar tendências e sazonalidades\n",
    "    plt.figure(figsize=(10, 6))\n",
    "    plt.plot(data['ds'], data['y'])\n",
    "    plt.title('Série Temporal')\n",
    "    plt.xlabel('Data')\n",
    "    plt.ylabel('Valor')\n",
    "    plt.show()\n",
    "    \n",
    "    # Plotar o boxplot para verificar a distribuição dos dados\n",
    "    plt.figure(figsize=(10, 6))\n",
    "    sns.boxplot(x=data['y'])\n",
    "    plt.title('Boxplot dos Valores')\n",
    "    plt.xlabel('Valor')\n",
    "    plt.show()\n",
    "    \n",
    "    # Verificar a decomposição da série temporal para identificar tendências e sazonalidades\n",
    "    result = seasonal_decompose(data.set_index('ds')['y'], model='additive', period=1)\n",
    "    result.plot()\n",
    "    plt.show()\n",
    "    \n",
    "    print(\"Se os gráficos mostrarem tendências e sazonalidades claras, a variável provavelmente atende aos pressupostos do Prophet.\")\n",
    "\n",
    "# Supondo que 'data' seja o DataFrame contendo a série temporal\n",
    "# Avaliar os pressupostos do Prophet para a coluna 'ig_maus'\n",
    "data_prophet = data[['quarter', 'ig_maus']].rename(columns={'quarter': 'ds', 'ig_maus': 'y'})\n",
    "avaliar_pressupostos_prophet(data_prophet)"
   ]
  },
  {
   "cell_type": "markdown",
   "metadata": {},
   "source": [
    "# Interpetação"
   ]
  },
  {
   "cell_type": "markdown",
   "metadata": {},
   "source": [
    "## Discussão/interpretação dos resultados MAUs\n",
    "- correlação linear forte entre as variáveis MAUs e Receita. Apontando possível relação de causa e efeito entre as variáveis devido a MAUs ser um valor que pode ser considerado como um indicador de sucesso do aplicativo.\n",
    "- apenas a variavel MAUs do instagram não é estacionária, já a MAUs do TikTok é estacionária. Destaque posterior analise dos trimestres 2 e 3 que parecem ser pontos de virada. \n",
    "- claras tendência positiva em ambas as variáveis MAUs. Porém a MAUs do TikTok nos ultimos periodos apresenta estabilidade, o que torna uma variável estacionária, apesar de poder aparentar uma tendência positiva constante.\n",
    "- a série de receita apresenta um pouco de sazonalidade nos dados do Instagram, mas não é muito forte se comparada com as tendências.\n",
    "\n",
    "\n",
    "\n",
    "## plano definido:\n",
    "Prophet para MAUs e regressão linear para receita usando as previsões de MAUs ainda faz sentido. Aqui está a justificativa:\n",
    "\n",
    "Justificativa:\n",
    "Correlação linear forte entre MAUs e Receita:\n",
    "Isso indica que o número de MAUs pode ser um bom preditor para as receitas. Usar as previsões de MAUs como feature para prever receitas é uma abordagem coerente.\n",
    "\n",
    "Nenhuma das variáveis é estacionária:\n",
    "Isso reforça o uso do Prophet, que é projetado para lidar com séries não estacionárias. No caso de MAUs, você pode seguir com Prophet sem necessidade de transformações.\n",
    "\n",
    "Clara tendência positiva:\n",
    "O Prophet modela bem a tendência (ele tem componentes de tendência embutidos no modelo). Já para a receita, a regressão linear é adequada quando existe uma relação linear clara entre as variáveis, como você observou.\n",
    "\n",
    "Sazonalidade na receita é moderada:\n",
    "Como a sazonalidade na receita é relativamente fraca comparada à tendência, a regressão linear pode ainda ser apropriada, especialmente se o foco principal for prever a tendência de crescimento da receita com base nos MAUs.\n",
    "\n",
    "MAUs sem sazonalidade:\n",
    "O fato de MAUs não apresentar sazonalidade torna a escolha por Prophet ainda mais válida, pois o Prophet pode captar bem a tendência sem complicações adicionais. Uma análise mais profunda de sazonalidade poderia ser feita, mas, por ora, é razoável seguir com o Prophet.\n",
    "\n",
    "Veredicto:\n",
    "Prophet para prever MAUs continua fazendo sentido, pois ele modela bem a tendência e lida com a não estacionariedade.\n",
    "Regressão linear para prever receitas usando as previsões de MAUs também continua válida, dada a forte correlação linear entre as variáveis e a ausência de uma sazonalidade forte que pudesse exigir modelos mais complexos.\n",
    "\n",
    "### Próximos Passos:\n",
    "1. Modelar as previsões de MAUs com Prophet;\n",
    "2. Usar as previsões de MAUs como feature para um modelo de regressão linear para prever as receitas."
   ]
  }
 ],
 "metadata": {
  "kernelspec": {
   "display_name": "venv",
   "language": "python",
   "name": "python3"
  },
  "language_info": {
   "codemirror_mode": {
    "name": "ipython",
    "version": 3
   },
   "file_extension": ".py",
   "mimetype": "text/x-python",
   "name": "python",
   "nbconvert_exporter": "python",
   "pygments_lexer": "ipython3",
   "version": "3.12.1"
  }
 },
 "nbformat": 4,
 "nbformat_minor": 2
}
