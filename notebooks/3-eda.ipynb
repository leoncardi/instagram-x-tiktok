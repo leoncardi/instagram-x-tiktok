{
 "cells": [
  {
   "cell_type": "markdown",
   "metadata": {},
   "source": [
    "# Setup"
   ]
  },
  {
   "cell_type": "markdown",
   "metadata": {},
   "source": [
    "## Parser Setup"
   ]
  },
  {
   "cell_type": "code",
   "execution_count": 1,
   "metadata": {},
   "outputs": [
    {
     "data": {
      "text/plain": [
       "['config.ini']"
      ]
     },
     "execution_count": 1,
     "metadata": {},
     "output_type": "execute_result"
    }
   ],
   "source": [
    "import configparser\n",
    "\n",
    "file_path = 'config.ini'\n",
    "config = configparser.ConfigParser()\n",
    "config.read(file_path)"
   ]
  },
  {
   "cell_type": "markdown",
   "metadata": {},
   "source": [
    "## Database and Integratiy Setup"
   ]
  },
  {
   "cell_type": "code",
   "execution_count": 2,
   "metadata": {},
   "outputs": [],
   "source": [
    "import os\n",
    "\n",
    "# Change to the parent directory to access the DFVC module\n",
    "os.chdir('..')\n",
    "from src import DFVC\n",
    "\n",
    "# Define constant for database access\n",
    "DB_DIR = 'data'\n",
    "\n",
    "# Define constants for preprocessed 1 data access\n",
    "PRP_S1_DF_NAME = config['database']['prp_data_s1_df_name']\n",
    "PRP_S1_FILENAME = config['database']['prp_data_s1_filename']\n",
    "PRP_S1_HASH = config['database']['prp_data_s1_version_hash']\n",
    "\n",
    "PRP_S1_PATH = os.path.join(DB_DIR, PRP_S1_FILENAME)"
   ]
  },
  {
   "cell_type": "markdown",
   "metadata": {},
   "source": [
    "## Data Analysis and Visualization Setup"
   ]
  },
  {
   "cell_type": "code",
   "execution_count": 3,
   "metadata": {},
   "outputs": [],
   "source": [
    "import pandas as pd\n",
    "import matplotlib.pyplot as plt\n",
    "import seaborn as sns"
   ]
  },
  {
   "cell_type": "markdown",
   "metadata": {},
   "source": [
    "# Data Integrity Verification and Getting Started with the Data"
   ]
  },
  {
   "cell_type": "code",
   "execution_count": 4,
   "metadata": {},
   "outputs": [
    {
     "name": "stdout",
     "output_type": "stream",
     "text": [
      "Version integrity verified successfully.\n"
     ]
    },
    {
     "data": {
      "text/html": [
       "\n",
       "        <div style='border:1px solid #1b2b30; padding:10px; border-radius:10px; width:max-content; \n",
       "                    font-family:Arial, sans-serif; background-color:#0a0e12; color:#8fa3a6; font-size:0.9em;'>\n",
       "            <div style='display: flex; align-items: center;'>\n",
       "                <button onclick=\"var info = document.getElementById('dfvc_137250447043680_info');\n",
       "                                if (info.style.display === 'none') {\n",
       "                                    info.style.display = 'block';\n",
       "                                    this.textContent = '-';\n",
       "                                } else {\n",
       "                                    info.style.display = 'none';\n",
       "                                    this.textContent = '+';\n",
       "                                }\"\n",
       "                        style='background-color:#202c31; color:#b5c9cb; border:none; padding:4px 12px; \n",
       "                            border-radius:5px; cursor:pointer; font-size:0.8em; margin-right:10px;'>\n",
       "                    +\n",
       "                </button>\n",
       "                <span style='font-weight: bold; color:#2d6f6b;'>DFVC Object</span>\n",
       "            </div>\n",
       "            <div id='dfvc_137250447043680_info' style='display:none; margin-top:10px;'>\n",
       "                <strong style='color:#2d6f6b;'>df_name==</strong>Preprocessed Data (Stage 1)<br>\n",
       "                <strong style='color:#2d6f6b;'>version==</strong>d3fe3c81e5f27076df4efc27a4849dd3c3be7bf360f2e91fc4b498cdf06a1b27<br>\n",
       "                <strong style='color:#2d6f6b;'>creation_date==</strong>2024:12:05 18:30:23 GMT+00<br>\n",
       "                <strong style='color:#2d6f6b;'>shape==</strong>(23, 6)<br>\n",
       "            </div>\n",
       "        </div>\n",
       "        "
      ],
      "text/plain": [
       "<src.dfvc.DFVC at 0x7cd41c242c60>"
      ]
     },
     "metadata": {},
     "output_type": "display_data"
    }
   ],
   "source": [
    "prp_s1_dfvc = DFVC.load_dfvc_file(PRP_S1_PATH)\n",
    "prp_s1_dfvc.compare_versions(PRP_S1_HASH)\n",
    "display(prp_s1_dfvc)"
   ]
  },
  {
   "cell_type": "code",
   "execution_count": 5,
   "metadata": {},
   "outputs": [],
   "source": [
    "data = prp_s1_dfvc.get_dataframe()"
   ]
  },
  {
   "cell_type": "code",
   "execution_count": null,
   "metadata": {},
   "outputs": [],
   "source": [
    "\n",
    "display(data.head())\n",
    "display(data.tail())\n",
    "display(data.shape)"
   ]
  },
  {
   "cell_type": "code",
   "execution_count": null,
   "metadata": {},
   "outputs": [],
   "source": [
    "data.dtypes"
   ]
  },
  {
   "cell_type": "code",
   "execution_count": null,
   "metadata": {},
   "outputs": [],
   "source": [
    "data.drop(columns=['quarter']).describe()"
   ]
  },
  {
   "cell_type": "code",
   "execution_count": null,
   "metadata": {},
   "outputs": [],
   "source": [
    "sns.boxplot(data)"
   ]
  },
  {
   "cell_type": "code",
   "execution_count": null,
   "metadata": {},
   "outputs": [],
   "source": [
    "sns.lineplot(data=data, x='quarter', y='ig_maus', label='Instagram MAUs')\n",
    "sns.lineplot(data=data, x='quarter', y='tk_maus', label='TikTok MAUs')"
   ]
  },
  {
   "cell_type": "code",
   "execution_count": null,
   "metadata": {},
   "outputs": [],
   "source": [
    "sns.lineplot(data=data, x='quarter', y='ig_maus', label='Instagram MAUs')"
   ]
  },
  {
   "cell_type": "code",
   "execution_count": null,
   "metadata": {},
   "outputs": [],
   "source": [
    "sns.lineplot(data=data, x='quarter', y='ig_revs', label='Instagram Revenue')\n",
    "sns.lineplot(data=data, x='quarter', y='tk_revs', label='TikTok Revenue')"
   ]
  },
  {
   "cell_type": "code",
   "execution_count": null,
   "metadata": {},
   "outputs": [],
   "source": [
    "sns.lineplot(data=data, x='quarter', y='ig_revs', label='Instagram Revenue')"
   ]
  },
  {
   "cell_type": "code",
   "execution_count": null,
   "metadata": {},
   "outputs": [],
   "source": [
    "sns.lineplot(data=data, x='quarter', y='tk_revs', label='TikTok Revenue')"
   ]
  },
  {
   "cell_type": "code",
   "execution_count": null,
   "metadata": {},
   "outputs": [],
   "source": [
    "sns.pairplot(data)"
   ]
  },
  {
   "cell_type": "code",
   "execution_count": null,
   "metadata": {},
   "outputs": [],
   "source": [
    "numeric_data = data.select_dtypes(include=['float64', 'int64'])\n",
    "sns.heatmap(numeric_data.corr(), annot=True)"
   ]
  },
  {
   "cell_type": "code",
   "execution_count": null,
   "metadata": {},
   "outputs": [],
   "source": [
    "# regplot\n",
    "ax = sns.regplot(data=data, x='ig_maus', y='ig_revs', label='Instagram')\n",
    "ax = sns.regplot(data=data, x='tk_maus', y='tk_revs', label='TikTok')\n",
    "ax.legend()\n",
    "ax.set_xlabel('MAUs')\n",
    "ax.set_ylabel('Revenues')\n",
    "sns.despine()"
   ]
  },
  {
   "cell_type": "markdown",
   "metadata": {},
   "source": [
    "## Presupostos"
   ]
  },
  {
   "cell_type": "code",
   "execution_count": null,
   "metadata": {},
   "outputs": [],
   "source": [
    "import pandas as pd\n",
    "import matplotlib.pyplot as plt\n",
    "import seaborn as sns\n",
    "from statsmodels.tsa.seasonal import seasonal_decompose\n",
    "\n",
    "def avaliar_pressupostos_prophet(data):\n",
    "    # Verifique se o DataFrame possui as colunas 'ds' e 'y'\n",
    "    if 'ds' not in data.columns or 'y' not in data.columns:\n",
    "        raise ValueError(\"O DataFrame deve conter as colunas 'ds' (datas) e 'y' (valores).\")\n",
    "    \n",
    "    # Converta a coluna 'ds' para o formato de data\n",
    "    data['ds'] = pd.to_datetime(data['ds'], errors='coerce')\n",
    "    if data['ds'].isnull().any():\n",
    "        raise ValueError(\"A coluna 'ds' contém valores que não podem ser convertidos para datas.\")\n",
    "    \n",
    "    # Verifique se há valores ausentes na coluna 'y'\n",
    "    if data['y'].isnull().any():\n",
    "        raise ValueError(\"A coluna 'y' contém valores ausentes.\")\n",
    "    \n",
    "    # Plotar a série temporal para verificar tendências e sazonalidades\n",
    "    plt.figure(figsize=(10, 6))\n",
    "    plt.plot(data['ds'], data['y'])\n",
    "    plt.title('Série Temporal')\n",
    "    plt.xlabel('Data')\n",
    "    plt.ylabel('Valor')\n",
    "    plt.show()\n",
    "    \n",
    "    # Plotar o boxplot para verificar a distribuição dos dados\n",
    "    plt.figure(figsize=(10, 6))\n",
    "    sns.boxplot(x=data['y'])\n",
    "    plt.title('Boxplot dos Valores')\n",
    "    plt.xlabel('Valor')\n",
    "    plt.show()\n",
    "    \n",
    "    # Verificar a decomposição da série temporal para identificar tendências e sazonalidades\n",
    "    result = seasonal_decompose(data.set_index('ds')['y'], model='additive', period=1)\n",
    "    result.plot()\n",
    "    plt.show()\n",
    "    \n",
    "    print(\"Se os gráficos mostrarem tendências e sazonalidades claras, a variável provavelmente atende aos pressupostos do Prophet.\")\n",
    "\n",
    "# Supondo que 'data' seja o DataFrame contendo a série temporal\n",
    "# Avaliar os pressupostos do Prophet para a coluna 'ig_maus'\n",
    "data_prophet = data[['quarter', 'ig_maus']].rename(columns={'quarter': 'ds', 'ig_maus': 'y'})\n",
    "avaliar_pressupostos_prophet(data_prophet)"
   ]
  },
  {
   "cell_type": "markdown",
   "metadata": {},
   "source": [
    "# Interpetação"
   ]
  },
  {
   "cell_type": "markdown",
   "metadata": {},
   "source": [
    "## Discussão/interpretação dos resultados MAUs\n",
    "- correlação linear forte entre as variáveis MAUs e Receita. Apontando possível relação de causa e efeito entre as variáveis devido a MAUs ser um valor que pode ser considerado como um indicador de sucesso do aplicativo.\n",
    "- apenas a variavel MAUs do instagram não é estacionária, já a MAUs do TikTok é estacionária. Destaque posterior analise dos trimestres 2 e 3 que parecem ser pontos de virada. \n",
    "- claras tendência positiva em ambas as variáveis MAUs. Porém a MAUs do TikTok nos ultimos periodos apresenta estabilidade, o que torna uma variável estacionária, apesar de poder aparentar uma tendência positiva constante.\n",
    "- a série de receita apresenta um pouco de sazonalidade nos dados do Instagram, mas não é muito forte se comparada com as tendências.\n",
    "\n",
    "\n",
    "\n",
    "## plano definido:\n",
    "Prophet para MAUs e regressão linear para receita usando as previsões de MAUs ainda faz sentido. Aqui está a justificativa:\n",
    "\n",
    "Justificativa:\n",
    "Correlação linear forte entre MAUs e Receita:\n",
    "Isso indica que o número de MAUs pode ser um bom preditor para as receitas. Usar as previsões de MAUs como feature para prever receitas é uma abordagem coerente.\n",
    "\n",
    "Nenhuma das variáveis é estacionária:\n",
    "Isso reforça o uso do Prophet, que é projetado para lidar com séries não estacionárias. No caso de MAUs, você pode seguir com Prophet sem necessidade de transformações.\n",
    "\n",
    "Clara tendência positiva:\n",
    "O Prophet modela bem a tendência (ele tem componentes de tendência embutidos no modelo). Já para a receita, a regressão linear é adequada quando existe uma relação linear clara entre as variáveis, como você observou.\n",
    "\n",
    "Sazonalidade na receita é moderada:\n",
    "Como a sazonalidade na receita é relativamente fraca comparada à tendência, a regressão linear pode ainda ser apropriada, especialmente se o foco principal for prever a tendência de crescimento da receita com base nos MAUs.\n",
    "\n",
    "MAUs sem sazonalidade:\n",
    "O fato de MAUs não apresentar sazonalidade torna a escolha por Prophet ainda mais válida, pois o Prophet pode captar bem a tendência sem complicações adicionais. Uma análise mais profunda de sazonalidade poderia ser feita, mas, por ora, é razoável seguir com o Prophet.\n",
    "\n",
    "Veredicto:\n",
    "Prophet para prever MAUs continua fazendo sentido, pois ele modela bem a tendência e lida com a não estacionariedade.\n",
    "Regressão linear para prever receitas usando as previsões de MAUs também continua válida, dada a forte correlação linear entre as variáveis e a ausência de uma sazonalidade forte que pudesse exigir modelos mais complexos.\n",
    "\n",
    "### Próximos Passos:\n",
    "1. Modelar as previsões de MAUs com Prophet;\n",
    "2. Usar as previsões de MAUs como feature para um modelo de regressão linear para prever as receitas."
   ]
  }
 ],
 "metadata": {
  "kernelspec": {
   "display_name": "venv",
   "language": "python",
   "name": "python3"
  },
  "language_info": {
   "codemirror_mode": {
    "name": "ipython",
    "version": 3
   },
   "file_extension": ".py",
   "mimetype": "text/x-python",
   "name": "python",
   "nbconvert_exporter": "python",
   "pygments_lexer": "ipython3",
   "version": "3.12.1"
  }
 },
 "nbformat": 4,
 "nbformat_minor": 2
}
