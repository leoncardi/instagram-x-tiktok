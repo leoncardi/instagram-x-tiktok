{
 "cells": [
  {
   "cell_type": "code",
   "execution_count": 1,
   "metadata": {},
   "outputs": [],
   "source": [
    "# materials/stack\n",
    "\n",
    "import pandas as pd\n",
    "from IPython.display import display\n",
    "import matplotlib.pyplot as plt\n",
    "import seaborn as sns\n",
    "import numpy as np\n",
    "from scipy.stats import zscore\n",
    "\n",
    "data = pd.read_parquet('data/raw/data_v1.parquet')\n",
    "forecast = pd.read_parquet('data/processed/data_v1_forecast.parquet')\n",
    "scores = pd.DataFrame()"
   ]
  },
  {
   "cell_type": "code",
   "execution_count": 2,
   "metadata": {},
   "outputs": [
    {
     "data": {
      "text/html": [
       "<div>\n",
       "<style scoped>\n",
       "    .dataframe tbody tr th:only-of-type {\n",
       "        vertical-align: middle;\n",
       "    }\n",
       "\n",
       "    .dataframe tbody tr th {\n",
       "        vertical-align: top;\n",
       "    }\n",
       "\n",
       "    .dataframe thead th {\n",
       "        text-align: right;\n",
       "    }\n",
       "</style>\n",
       "<table border=\"1\" class=\"dataframe\">\n",
       "  <thead>\n",
       "    <tr style=\"text-align: right;\">\n",
       "      <th></th>\n",
       "      <th>quarter</th>\n",
       "      <th>quarter_label</th>\n",
       "      <th>ig_maus</th>\n",
       "      <th>ig_revenue</th>\n",
       "      <th>tk_maus</th>\n",
       "      <th>tk_revenue</th>\n",
       "    </tr>\n",
       "  </thead>\n",
       "  <tbody>\n",
       "    <tr>\n",
       "      <th>0</th>\n",
       "      <td>2024-03-31</td>\n",
       "      <td>Q2 2024</td>\n",
       "      <td>2221735781</td>\n",
       "      <td>12735807893</td>\n",
       "      <td>1871336709</td>\n",
       "      <td>4527462823</td>\n",
       "    </tr>\n",
       "    <tr>\n",
       "      <th>1</th>\n",
       "      <td>2024-06-30</td>\n",
       "      <td>Q3 2024</td>\n",
       "      <td>2242448858</td>\n",
       "      <td>12929389484</td>\n",
       "      <td>1631989456</td>\n",
       "      <td>3749413402</td>\n",
       "    </tr>\n",
       "    <tr>\n",
       "      <th>2</th>\n",
       "      <td>2024-09-30</td>\n",
       "      <td>Q4 2024</td>\n",
       "      <td>2276922459</td>\n",
       "      <td>13251575055</td>\n",
       "      <td>1576689951</td>\n",
       "      <td>3569650540</td>\n",
       "    </tr>\n",
       "    <tr>\n",
       "      <th>3</th>\n",
       "      <td>2024-12-31</td>\n",
       "      <td>Q1 2025</td>\n",
       "      <td>2369122780</td>\n",
       "      <td>14113266663</td>\n",
       "      <td>1495697320</td>\n",
       "      <td>3306366674</td>\n",
       "    </tr>\n",
       "  </tbody>\n",
       "</table>\n",
       "</div>"
      ],
      "text/plain": [
       "     quarter quarter_label     ig_maus   ig_revenue     tk_maus  tk_revenue\n",
       "0 2024-03-31       Q2 2024  2221735781  12735807893  1871336709  4527462823\n",
       "1 2024-06-30       Q3 2024  2242448858  12929389484  1631989456  3749413402\n",
       "2 2024-09-30       Q4 2024  2276922459  13251575055  1576689951  3569650540\n",
       "3 2024-12-31       Q1 2025  2369122780  14113266663  1495697320  3306366674"
      ]
     },
     "execution_count": 2,
     "metadata": {},
     "output_type": "execute_result"
    }
   ],
   "source": [
    "forecast"
   ]
  },
  {
   "cell_type": "markdown",
   "metadata": {},
   "source": [
    "## Scoring: Last Period"
   ]
  },
  {
   "cell_type": "code",
   "execution_count": 3,
   "metadata": {},
   "outputs": [],
   "source": [
    "last_results = forecast.tail(1)\n",
    "ig_last_results = last_results.drop(columns=['tk_maus', 'tk_revenue'])\n",
    "tk_last_results = last_results.drop(columns=['ig_maus', 'ig_revenue'])"
   ]
  },
  {
   "cell_type": "code",
   "execution_count": null,
   "metadata": {},
   "outputs": [],
   "source": [
    "display(ig_last_results, tk_last_results)"
   ]
  },
  {
   "cell_type": "code",
   "execution_count": null,
   "metadata": {},
   "outputs": [],
   "source": [
    "# Formatar os números com separadores de milhar\n",
    "lp_ig_revenue = f\"{ig_last_results['ig_revenue'].values[0]:,}\"\n",
    "lp_tk_revenue = f\"{tk_last_results['tk_revenue'].values[0]:,}\"\n",
    "lp_difference = f\"{ig_last_results['ig_revenue'].values[0] - tk_last_results['tk_revenue'].values[0]:,}\"\n",
    "\n",
    "print('Instagram revenues forecast:', lp_ig_revenue)\n",
    "print('TikTok revenues forecast:', lp_tk_revenue)\n",
    "print('Difference between Instagram and TikTok:', lp_difference)\n",
    "print()\n",
    "if ig_last_results['ig_revenue'].values[0] > tk_last_results['tk_revenue'].values[0]:\n",
    "    print('Instagram pretended to have more revenues.')\n",
    "else:\n",
    "    print('TikTok pretended to have more revenues.')"
   ]
  },
  {
   "cell_type": "code",
   "execution_count": 66,
   "metadata": {},
   "outputs": [],
   "source": [
    "def calculate_app_scores(data, w1=0.4, w2=0.6):\n",
    "    \"\"\"\n",
    "    Calcula os scores de dois aplicativos baseados em receitas e MAUs.\n",
    "\n",
    "    Parâmetros:\n",
    "    - data: DataFrame com colunas 'ig_maus', 'ig_revenue', 'tk_maus', 'tk_revenue'.\n",
    "    - w1: Peso para a receita (valor entre 0 e 1).\n",
    "    - w2: Peso para MAUs (valor entre 0 e 1).\n",
    "\n",
    "    Retorna:\n",
    "    - DataFrame com os scores dos aplicativos.\n",
    "    \"\"\"\n",
    "    # Normalização\n",
    "    data['ig_normalized_revenue'] = (data['ig_revenue'] - data['ig_revenue'].min()) / (data['ig_revenue'].max() - data['ig_revenue'].min())\n",
    "    data['ig_normalized_maus'] = (data['ig_maus'] - data['ig_maus'].min()) / (data['ig_maus'].max() - data['ig_maus'].min())\n",
    "    data['tk_normalized_revenue'] = (data['tk_revenue'] - data['tk_revenue'].min()) / (data['tk_revenue'].max() - data['tk_revenue'].min())\n",
    "    data['tk_normalized_maus'] = (data['tk_maus'] - data['tk_maus'].min()) / (data['tk_maus'].max() - data['tk_maus'].min())\n",
    "\n",
    "    # Cálculo do Score\n",
    "    data['ig_score'] = w1 * data['ig_normalized_revenue'] + w2 * data['ig_normalized_maus']\n",
    "    data['tk_score'] = w1 * data['tk_normalized_revenue'] + w2 * data['tk_normalized_maus']\n",
    "\n",
    "    return data[['quarter', 'ig_score', 'tk_score']]\n",
    "\n",
    "teste = calculate_app_scores(data)"
   ]
  },
  {
   "cell_type": "code",
   "execution_count": 69,
   "metadata": {},
   "outputs": [],
   "source": [
    "scoring = data.tail(1)"
   ]
  },
  {
   "cell_type": "code",
   "execution_count": null,
   "metadata": {},
   "outputs": [],
   "source": [
    "scoring"
   ]
  },
  {
   "cell_type": "code",
   "execution_count": null,
   "metadata": {},
   "outputs": [],
   "source": [
    "forecast"
   ]
  },
  {
   "cell_type": "code",
   "execution_count": null,
   "metadata": {},
   "outputs": [],
   "source": [
    "teste"
   ]
  },
  {
   "cell_type": "code",
   "execution_count": null,
   "metadata": {},
   "outputs": [],
   "source": [
    "forecast"
   ]
  },
  {
   "cell_type": "code",
   "execution_count": null,
   "metadata": {},
   "outputs": [],
   "source": [
    "def calculate_scores(df, weight_revenue, weight_maus, x: str, y: str): \n",
    "    try:\n",
    "        # Validar pesos\n",
    "        # if weight_revenue + weight_maus != 1:\n",
    "        #    raise ValueError(\"Os pesos devem somar 1.\")\n",
    "\n",
    "        # Normalizar utilizando Z-score\n",
    "        df[f'{x}_z'] = zscore(df[f'{x}'])\n",
    "        df[f'{y}_z'] = zscore(df[f'{y}'])\n",
    "        \n",
    "\n",
    "        # Calcular o score composto\n",
    "        df['score'] = (df[f'{y}_z'] * weight_revenue) + (df[f'{x}_z'] * weight_maus)\n",
    "\n",
    "        return df\n",
    "    except Exception as e:\n",
    "        print(f\"Erro ao calcular scores: {e}\")\n",
    "\n",
    "calculate_scores(forecast, 0.5, 0.4, 'ig_maus', 'ig_revenue')"
   ]
  },
  {
   "cell_type": "code",
   "execution_count": null,
   "metadata": {},
   "outputs": [],
   "source": [
    "# Formatar os números com separadores de milhar\n",
    "lp_ig_maus = f\"{ig_last_results['ig_maus'].values[0]:,}\"\n",
    "lp_tk_maus = f\"{tk_last_results['tk_maus'].values[0]:,}\"\n",
    "lp_difference = f\"{ig_last_results['ig_maus'].values[0] - tk_last_results['tk_maus'].values[0]:,}\"\n",
    "\n",
    "print('Instagram MAUs forecast:', lp_ig_maus)\n",
    "print('TikTok MAUs forecast:', lp_tk_maus)\n",
    "print('Difference between Instagram and TikTok:', lp_difference)\n",
    "print()\n",
    "if ig_last_results['ig_maus'].values[0] > tk_last_results['tk_maus'].values[0]:\n",
    "    print('Instagram pretended to have more MAUs.')\n",
    "else:\n",
    "    print('TikTok pretended to have more MAUs.')"
   ]
  },
  {
   "cell_type": "code",
   "execution_count": null,
   "metadata": {},
   "outputs": [],
   "source": [
    "# winner score\n",
    "lp_ig_score = ig_last_results['ig_revenue'].values[0] / ig_last_results['ig_maus'].values[0]\n",
    "lp_tk_score = tk_last_results['tk_revenue'].values[0] / tk_last_results['tk_maus'].values[0]\n",
    "\n",
    "print('Instagram score:', lp_ig_score)\n",
    "print('TikTok score:', lp_tk_score)\n",
    "print()\n",
    "if lp_ig_score > lp_tk_score:\n",
    "    print('Instagram pretended to have a better score.')\n",
    "else:\n",
    "    print('TikTok pretended to have a better score.')"
   ]
  },
  {
   "cell_type": "markdown",
   "metadata": {},
   "source": [
    "## Scoring: All Periods"
   ]
  },
  {
   "cell_type": "code",
   "execution_count": null,
   "metadata": {},
   "outputs": [],
   "source": [
    "display(forecast.drop(columns=['tk_maus', 'tk_revenue']))\n",
    "display(forecast.drop(columns=['ig_maus', 'ig_revenue']))"
   ]
  },
  {
   "cell_type": "code",
   "execution_count": null,
   "metadata": {},
   "outputs": [],
   "source": [
    "ig_revenue = f\"{forecast['ig_revenue'].sum():,}\"\n",
    "tk_revenue = f\"{forecast['tk_revenue'].sum():,}\"\n",
    "difference = f\"{forecast['ig_revenue'].sum() - forecast['tk_revenue'].sum():,}\"\n",
    "\n",
    "print('Instagram revenues forecast:', ig_revenue)\n",
    "print('TikTok revenues forecast:', tk_revenue)\n",
    "print('Difference between Instagram and TikTok:', difference)\n",
    "print()\n",
    "if forecast['ig_revenue'].sum() > forecast['tk_revenue'].sum():\n",
    "    print('Instagram pretended to have more revenues.')\n",
    "else:\n",
    "    print('TikTok pretended to have more revenues.')"
   ]
  },
  {
   "cell_type": "code",
   "execution_count": null,
   "metadata": {},
   "outputs": [],
   "source": [
    "ig_maus = f\"{forecast['ig_maus'].sum():,}\"\n",
    "tk_maus = f\"{forecast['tk_maus'].sum():,}\"\n",
    "difference = f\"{forecast['ig_maus'].sum() - forecast['tk_maus'].sum():,}\"\n",
    "\n",
    "print('Instagram MAUs forecast:', ig_maus)\n",
    "print('TikTok MAUs forecast:', tk_maus)\n",
    "print('Difference between Instagram and TikTok:', difference)\n",
    "print()\n",
    "if forecast['ig_maus'].sum() > forecast['tk_maus'].sum():\n",
    "    print('Instagram pretended to have more MAUs.')\n",
    "else:\n",
    "    print('TikTok pretended to have more MAUs.')"
   ]
  },
  {
   "cell_type": "code",
   "execution_count": null,
   "metadata": {},
   "outputs": [],
   "source": [
    "ig_score = forecast['ig_revenue'].sum() / forecast['ig_maus'].sum()\n",
    "tk_score = forecast['tk_revenue'].sum() / forecast['tk_maus'].sum()\n",
    "\n",
    "print('Instagram score:', ig_score)\n",
    "print('TikTok score:', tk_score)\n",
    "print()\n",
    "if ig_score > tk_score:\n",
    "    print('Instagram pretended to have a better score.')\n",
    "else:\n",
    "    print('TikTok pretended to have a better score.')"
   ]
  }
 ],
 "metadata": {
  "kernelspec": {
   "display_name": "venv",
   "language": "python",
   "name": "python3"
  },
  "language_info": {
   "codemirror_mode": {
    "name": "ipython",
    "version": 3
   },
   "file_extension": ".py",
   "mimetype": "text/x-python",
   "name": "python",
   "nbconvert_exporter": "python",
   "pygments_lexer": "ipython3",
   "version": "3.12.1"
  }
 },
 "nbformat": 4,
 "nbformat_minor": 2
}
